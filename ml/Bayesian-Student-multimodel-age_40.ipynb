{
 "cells": [
  {
   "cell_type": "markdown",
   "id": "e6cf67df",
   "metadata": {},
   "source": [
    "## Модель биовозраста\n",
    "Цель - предсказать возраст на основе следующих показателей:\n",
    "1. 'АДС' - давление систолитическое\n",
    "2. 'АДД' - давление дистолитическое\n",
    "3. 'АДП' -  разница между систолитическим и дистолитическим давлением,\n",
    "4. 'ЗДВдох' - задержка дыхания на вдохе, \n",
    "5. 'ЗДВыдох' - задержка дыхания на выдохе, \n",
    "6. 'ЖЕЛ' - жизненная емкость легких, \n",
    "7. 'Масса тела', \n",
    "8. 'Аккомодация',\n",
    "9. 'Острота слуха', \n",
    "10. 'Стат.балансировка - время сколько может простоят на левой ноге, с\n",
    "\n",
    "В предыдущих работах показали, что модули биовозраста зависят от пола, поэтому берем только данные мужчин практически здоровых. Их мало (ну не хотят они ходить в больницу -))"
   ]
  },
  {
   "cell_type": "code",
   "execution_count": 1,
   "id": "50b059f4",
   "metadata": {},
   "outputs": [
    {
     "name": "stderr",
     "output_type": "stream",
     "text": [
      "C:\\Users\\Main\\anaconda3\\lib\\site-packages\\numpy\\_distributor_init.py:30: UserWarning: loaded more than 1 DLL from .libs:\n",
      "C:\\Users\\Main\\anaconda3\\lib\\site-packages\\numpy\\.libs\\libopenblas.EL2C6PLE4ZYW3ECEVIV3OXXGRN2NRFM2.gfortran-win_amd64.dll\n",
      "C:\\Users\\Main\\anaconda3\\lib\\site-packages\\numpy\\.libs\\libopenblas64__v0.3.23-246-g3d31191b-gcc_10_3_0.dll\n",
      "  warnings.warn(\"loaded more than 1 DLL from .libs:\"\n",
      "WARNING (pytensor.configdefaults): g++ not available, if using conda: `conda install m2w64-toolchain`\n",
      "WARNING (pytensor.configdefaults): g++ not detected!  PyTensor will be unable to compile C-implementations and will default to Python. Performance may be severely degraded. To remove this warning, set PyTensor flags cxx to an empty string.\n",
      "WARNING (pytensor.tensor.blas): Using NumPy C-API based implementation for BLAS functions.\n"
     ]
    }
   ],
   "source": [
    "import pymc as pm\n",
    "import arviz as az\n",
    "import pandas as pd\n",
    "import numpy as np"
   ]
  },
  {
   "cell_type": "code",
   "execution_count": 12,
   "id": "6a7a678f",
   "metadata": {},
   "outputs": [],
   "source": [
    "import matplotlib.pyplot as plt"
   ]
  },
  {
   "cell_type": "code",
   "execution_count": 11,
   "id": "89cdeb37",
   "metadata": {},
   "outputs": [],
   "source": [
    "from sklearn.preprocessing import StandardScaler, MinMaxScaler\n",
    "from sklearn.model_selection import train_test_split"
   ]
  },
  {
   "cell_type": "code",
   "execution_count": 4,
   "id": "02742022",
   "metadata": {},
   "outputs": [],
   "source": [
    "df = pd.read_excel('../data_preparing/cluster_m_amb.xlsx')"
   ]
  },
  {
   "cell_type": "code",
   "execution_count": 5,
   "id": "fe4de86c",
   "metadata": {},
   "outputs": [
    {
     "data": {
      "text/plain": [
       "Index(['Unnamed: 0', 'состояние', 'пол', 'возраст', 'АДС', 'АДД', 'АДП',\n",
       "       'ЗДВдох', 'ЗДВыдох', 'ЖЕЛ', 'Масса тела', 'Аккомодация',\n",
       "       'Острота слуха', 'Стат.балансировка', 'id_pat', 'cluster'],\n",
       "      dtype='object')"
      ]
     },
     "execution_count": 5,
     "metadata": {},
     "output_type": "execute_result"
    }
   ],
   "source": [
    "df.columns"
   ]
  },
  {
   "cell_type": "code",
   "execution_count": 6,
   "id": "210a7983",
   "metadata": {},
   "outputs": [],
   "source": [
    "x_40 = df[df['возраст'] >= 40][['АДС', 'АДД', 'АДП',\n",
    "       'ЗДВдох', 'ЗДВыдох', 'ЖЕЛ', 'Масса тела', 'Аккомодация',\n",
    "       'Острота слуха', 'Стат.балансировка']]\n",
    "y_40 = df[df['возраст'] >=40]['возраст']"
   ]
  },
  {
   "cell_type": "code",
   "execution_count": 15,
   "id": "42689777",
   "metadata": {},
   "outputs": [],
   "source": [
    "x_train, x_test, y_train, y_test = train_test_split(x_40,y_40, test_size = 0.2, random_state = 1)"
   ]
  },
  {
   "cell_type": "code",
   "execution_count": 16,
   "id": "d4fc059c",
   "metadata": {},
   "outputs": [
    {
     "data": {
      "text/plain": [
       "(187, 10)"
      ]
     },
     "execution_count": 16,
     "metadata": {},
     "output_type": "execute_result"
    }
   ],
   "source": [
    "x_train.shape"
   ]
  },
  {
   "cell_type": "code",
   "execution_count": 17,
   "id": "f296a7e9",
   "metadata": {},
   "outputs": [
    {
     "data": {
      "text/plain": [
       "(47, 10)"
      ]
     },
     "execution_count": 17,
     "metadata": {},
     "output_type": "execute_result"
    }
   ],
   "source": [
    "x_test.shape"
   ]
  },
  {
   "cell_type": "code",
   "execution_count": 18,
   "id": "eae6d34f",
   "metadata": {},
   "outputs": [],
   "source": [
    "scaller = StandardScaler()\n",
    "x_train_transformed = scaller.fit_transform(x_train)\n",
    "y_train_transformed = scaller.fit_transform(y_train.values.reshape(-1,1))"
   ]
  },
  {
   "cell_type": "code",
   "execution_count": 11,
   "id": "58c2bd90",
   "metadata": {},
   "outputs": [],
   "source": [
    "scaller = StandardScaler()\n",
    "x_test_transformed = scaller.fit_transform(x_test)\n",
    "y_test_transformed = scaller.fit_transform(y_test.values.reshape(-1,1))"
   ]
  },
  {
   "cell_type": "code",
   "execution_count": 12,
   "id": "4f05f07d",
   "metadata": {},
   "outputs": [],
   "source": [
    "scaller = StandardScaler()\n",
    "x_transformed = scaller.fit_transform(x_40)\n",
    "y_transformed = scaller.fit_transform(y_40.values.reshape(-1,1))"
   ]
  },
  {
   "cell_type": "code",
   "execution_count": 7,
   "id": "4409839e",
   "metadata": {},
   "outputs": [],
   "source": [
    "def trans(df):\n",
    "    transformed = scaller.fit_transform(df.values.reshape(-1, 1))\n",
    "    df_trans = pd.Series(transformed.ravel())\n",
    "    return df_trans\n"
   ]
  },
  {
   "cell_type": "code",
   "execution_count": 8,
   "id": "a93106ab",
   "metadata": {},
   "outputs": [],
   "source": [
    "def dist_norm(mu, sigma, df):\n",
    "    t_dist = pm.Normal.dist(mu = mu, sigma = sigma)\n",
    "    x_eval = np.linspace(-6, 6, 300)\n",
    "    plt.plot(x_eval, pm.math.exp(pm.logp(t_dist, x_eval)).eval(), label=\"Normal\", lw=2.0)\n",
    "    df.plot.kde()\n",
    "    plt.xlabel(\"x\")\n",
    "    plt.ylabel(\"Probability density\")\n",
    "    plt.legend()"
   ]
  },
  {
   "cell_type": "code",
   "execution_count": 19,
   "id": "c49fb478",
   "metadata": {},
   "outputs": [
    {
     "data": {
      "image/png": "[encoded data removed]",
      "text/plain": [
       "<Figure size 432x288 with 1 Axes>"
      ]
     },
     "metadata": {
      "needs_background": "light"
     },
     "output_type": "display_data"
    }
   ],
   "source": [
    "dist_norm(0.0, 0.95, trans(df['возраст']))"
   ]
  },
  {
   "cell_type": "markdown",
   "id": "9134db3b",
   "metadata": {},
   "source": [
    "### Ищем подходящее распределение для фичей"
   ]
  },
  {
   "cell_type": "markdown",
   "id": "cd9462e1",
   "metadata": {},
   "source": [
    "АДС"
   ]
  },
  {
   "cell_type": "code",
   "execution_count": 27,
   "id": "efa8fa7d",
   "metadata": {},
   "outputs": [
    {
     "data": {
      "image/png": "[encoded data removed]",
      "text/plain": [
       "<Figure size 432x288 with 1 Axes>"
      ]
     },
     "metadata": {
      "needs_background": "light"
     },
     "output_type": "display_data"
    }
   ],
   "source": [
    "dist_norm(-0.2, 0.65, trans(x_40['АДС']))"
   ]
  },
  {
   "cell_type": "code",
   "execution_count": 57,
   "id": "461203e9",
   "metadata": {},
   "outputs": [
    {
     "data": {
      "image/png": "[encoded data removed]",
      "text/plain": [
       "<Figure size 432x288 with 1 Axes>"
      ]
     },
     "metadata": {
      "needs_background": "light"
     },
     "output_type": "display_data"
    }
   ],
   "source": [
    "dist_norm(-0.2, 0.65, trans(x_40['АДС']*x_40['АДС']))"
   ]
  },
  {
   "cell_type": "markdown",
   "id": "fd2c4838",
   "metadata": {},
   "source": [
    "АДД"
   ]
  },
  {
   "cell_type": "code",
   "execution_count": 29,
   "id": "ae2fa844",
   "metadata": {},
   "outputs": [
    {
     "data": {
      "image/png": "[encoded data removed]",
      "text/plain": [
       "<Figure size 432x288 with 1 Axes>"
      ]
     },
     "metadata": {
      "needs_background": "light"
     },
     "output_type": "display_data"
    }
   ],
   "source": [
    "dist_norm(-0.35, 0.7, trans(x_40['АДД']))"
   ]
  },
  {
   "cell_type": "code",
   "execution_count": 58,
   "id": "7117520b",
   "metadata": {},
   "outputs": [
    {
     "data": {
      "image/png": "[encoded data removed]",
      "text/plain": [
       "<Figure size 432x288 with 1 Axes>"
      ]
     },
     "metadata": {
      "needs_background": "light"
     },
     "output_type": "display_data"
    }
   ],
   "source": [
    "dist_norm(-0.35, 0.7, trans(x_40['АДД']*x_40['АДД']))"
   ]
  },
  {
   "cell_type": "markdown",
   "id": "23cf1442",
   "metadata": {},
   "source": [
    "АДП"
   ]
  },
  {
   "cell_type": "code",
   "execution_count": 22,
   "id": "22653046",
   "metadata": {},
   "outputs": [
    {
     "data": {
      "image/png": "[encoded data removed]",
      "text/plain": [
       "<Figure size 432x288 with 1 Axes>"
      ]
     },
     "metadata": {
      "needs_background": "light"
     },
     "output_type": "display_data"
    }
   ],
   "source": [
    "dist_norm(0, 0.7, trans(x_40['АДП']))"
   ]
  },
  {
   "cell_type": "code",
   "execution_count": 61,
   "id": "a5966a8d",
   "metadata": {},
   "outputs": [
    {
     "data": {
      "image/png": "[encoded data removed]",
      "text/plain": [
       "<Figure size 432x288 with 1 Axes>"
      ]
     },
     "metadata": {
      "needs_background": "light"
     },
     "output_type": "display_data"
    }
   ],
   "source": [
    "dist_norm(-0.2, 0.7, trans(x_40['АДП']*x_40['АДП']))"
   ]
  },
  {
   "cell_type": "markdown",
   "id": "02598e3c",
   "metadata": {},
   "source": [
    "ЗДВдох"
   ]
  },
  {
   "cell_type": "code",
   "execution_count": 21,
   "id": "04b5e28a",
   "metadata": {},
   "outputs": [
    {
     "data": {
      "image/png": "[encoded data removed]",
      "text/plain": [
       "<Figure size 432x288 with 1 Axes>"
      ]
     },
     "metadata": {
      "needs_background": "light"
     },
     "output_type": "display_data"
    }
   ],
   "source": [
    "dist_norm(-0.4, 0.7, trans(x_40['ЗДВдох']))"
   ]
  },
  {
   "cell_type": "code",
   "execution_count": 62,
   "id": "9d63ac0e",
   "metadata": {},
   "outputs": [
    {
     "data": {
      "image/png": "[encoded data removed]",
      "text/plain": [
       "<Figure size 432x288 with 1 Axes>"
      ]
     },
     "metadata": {
      "needs_background": "light"
     },
     "output_type": "display_data"
    }
   ],
   "source": [
    "dist_norm(-0.4, 0.7, trans(x_40['ЗДВдох']*x_40['ЗДВдох']))"
   ]
  },
  {
   "cell_type": "markdown",
   "id": "ec1a4d13",
   "metadata": {},
   "source": [
    "ЗДВыдох"
   ]
  },
  {
   "cell_type": "code",
   "execution_count": 19,
   "id": "e6d03908",
   "metadata": {},
   "outputs": [
    {
     "data": {
      "image/png": "[encoded data removed]",
      "text/plain": [
       "<Figure size 432x288 with 1 Axes>"
      ]
     },
     "metadata": {
      "needs_background": "light"
     },
     "output_type": "display_data"
    }
   ],
   "source": [
    "dist_norm(-0.35, 0.55, trans(x_40['ЗДВыдох']))"
   ]
  },
  {
   "cell_type": "code",
   "execution_count": 63,
   "id": "79fd5687",
   "metadata": {},
   "outputs": [
    {
     "data": {
      "image/png": "[encoded data removed]",
      "text/plain": [
       "<Figure size 432x288 with 1 Axes>"
      ]
     },
     "metadata": {
      "needs_background": "light"
     },
     "output_type": "display_data"
    }
   ],
   "source": [
    "dist_norm(-0.35, 0.55, trans(x_40['ЗДВыдох']*x_40['ЗДВыдох']))"
   ]
  },
  {
   "cell_type": "markdown",
   "id": "59e0ca91",
   "metadata": {},
   "source": [
    "ЖЕЛ"
   ]
  },
  {
   "cell_type": "code",
   "execution_count": 17,
   "id": "8760f74d",
   "metadata": {},
   "outputs": [
    {
     "data": {
      "image/png": "[encoded data removed]",
      "text/plain": [
       "<Figure size 432x288 with 1 Axes>"
      ]
     },
     "metadata": {
      "needs_background": "light"
     },
     "output_type": "display_data"
    }
   ],
   "source": [
    "dist_norm(-0.2, 0.55, trans(x_40['ЖЕЛ']))"
   ]
  },
  {
   "cell_type": "code",
   "execution_count": 65,
   "id": "c0814829",
   "metadata": {},
   "outputs": [
    {
     "data": {
      "image/png": "[encoded data removed]",
      "text/plain": [
       "<Figure size 432x288 with 1 Axes>"
      ]
     },
     "metadata": {
      "needs_background": "light"
     },
     "output_type": "display_data"
    }
   ],
   "source": [
    "dist_norm(-0.25, 0.55, trans(x_40['ЖЕЛ']*x_40['ЖЕЛ']))"
   ]
  },
  {
   "cell_type": "markdown",
   "id": "99407d81",
   "metadata": {},
   "source": [
    "Масса тела"
   ]
  },
  {
   "cell_type": "code",
   "execution_count": 15,
   "id": "f6062714",
   "metadata": {},
   "outputs": [
    {
     "data": {
      "image/png": "[encoded data removed]",
      "text/plain": [
       "<Figure size 432x288 with 1 Axes>"
      ]
     },
     "metadata": {
      "needs_background": "light"
     },
     "output_type": "display_data"
    }
   ],
   "source": [
    "dist_norm(-0.35, 0.65, trans(x_40['Масса тела']))"
   ]
  },
  {
   "cell_type": "code",
   "execution_count": 67,
   "id": "d6dbbbba",
   "metadata": {},
   "outputs": [
    {
     "data": {
      "image/png": "[encoded data removed]",
      "text/plain": [
       "<Figure size 432x288 with 1 Axes>"
      ]
     },
     "metadata": {
      "needs_background": "light"
     },
     "output_type": "display_data"
    }
   ],
   "source": [
    "dist_norm(-0.4, 0.65, trans(x_40['Масса тела']*x_40['Масса тела']))"
   ]
  },
  {
   "cell_type": "markdown",
   "id": "9702fd8e",
   "metadata": {},
   "source": [
    "Аккомодация"
   ]
  },
  {
   "cell_type": "code",
   "execution_count": 14,
   "id": "435a7dc5",
   "metadata": {},
   "outputs": [
    {
     "data": {
      "image/png": "[encoded data removed]",
      "text/plain": [
       "<Figure size 432x288 with 1 Axes>"
      ]
     },
     "metadata": {
      "needs_background": "light"
     },
     "output_type": "display_data"
    }
   ],
   "source": [
    "dist_norm(0.2, 0.6, trans(x_40['Аккомодация']))"
   ]
  },
  {
   "cell_type": "code",
   "execution_count": 73,
   "id": "d356e22d",
   "metadata": {},
   "outputs": [
    {
     "data": {
      "image/png": "[encoded data removed]",
      "text/plain": [
       "<Figure size 432x288 with 1 Axes>"
      ]
     },
     "metadata": {
      "needs_background": "light"
     },
     "output_type": "display_data"
    }
   ],
   "source": [
    "dist_norm(-0.1, 0.6, trans(x_40['Аккомодация']*x_40['Аккомодация']))"
   ]
  },
  {
   "cell_type": "markdown",
   "id": "2f8e1736",
   "metadata": {},
   "source": [
    "Острота слуха"
   ]
  },
  {
   "cell_type": "code",
   "execution_count": 13,
   "id": "e323ad98",
   "metadata": {},
   "outputs": [
    {
     "data": {
      "image/png": "[encoded data removed]",
      "text/plain": [
       "<Figure size 432x288 with 1 Axes>"
      ]
     },
     "metadata": {
      "needs_background": "light"
     },
     "output_type": "display_data"
    }
   ],
   "source": [
    "dist_norm(0.0, 0.65, trans(x_40['Острота слуха']))"
   ]
  },
  {
   "cell_type": "code",
   "execution_count": 76,
   "id": "777248e6",
   "metadata": {},
   "outputs": [
    {
     "data": {
      "image/png": "[encoded data removed]",
      "text/plain": [
       "<Figure size 432x288 with 1 Axes>"
      ]
     },
     "metadata": {
      "needs_background": "light"
     },
     "output_type": "display_data"
    }
   ],
   "source": [
    "dist_norm(-0.2, 0.5, trans(x_40['Острота слуха']*x_40['Острота слуха']))"
   ]
  },
  {
   "cell_type": "markdown",
   "id": "0ac0989c",
   "metadata": {},
   "source": [
    "Стат.балансировка"
   ]
  },
  {
   "cell_type": "code",
   "execution_count": 12,
   "id": "bcd7b5a6",
   "metadata": {},
   "outputs": [
    {
     "data": {
      "image/png": "[encoded data removed]",
      "text/plain": [
       "<Figure size 432x288 with 1 Axes>"
      ]
     },
     "metadata": {
      "needs_background": "light"
     },
     "output_type": "display_data"
    }
   ],
   "source": [
    "dist_norm(-0.2, 0.65, trans(x_40['Стат.балансировка']))"
   ]
  },
  {
   "cell_type": "code",
   "execution_count": 78,
   "id": "4ac462c0",
   "metadata": {},
   "outputs": [
    {
     "data": {
      "image/png": "[encoded data removed]",
      "text/plain": [
       "<Figure size 432x288 with 1 Axes>"
      ]
     },
     "metadata": {
      "needs_background": "light"
     },
     "output_type": "display_data"
    }
   ],
   "source": [
    "dist_norm(-0.2, 0.4, trans(x_40['Стат.балансировка']*x_40['Стат.балансировка']))"
   ]
  },
  {
   "cell_type": "markdown",
   "id": "2896d728",
   "metadata": {},
   "source": [
    "возраст"
   ]
  },
  {
   "cell_type": "code",
   "execution_count": 11,
   "id": "ab6006c4",
   "metadata": {},
   "outputs": [
    {
     "data": {
      "image/png": "[encoded data removed]",
      "text/plain": [
       "<Figure size 432x288 with 1 Axes>"
      ]
     },
     "metadata": {
      "needs_background": "light"
     },
     "output_type": "display_data"
    }
   ],
   "source": [
    "dist_norm(-0.5, 0.95, trans(y_40))"
   ]
  },
  {
   "cell_type": "markdown",
   "id": "ee7ea546",
   "metadata": {},
   "source": [
    "попробуем построить модель"
   ]
  },
  {
   "cell_type": "code",
   "execution_count": 52,
   "id": "5c2a5368",
   "metadata": {},
   "outputs": [],
   "source": [
    "basic_model = pm.Model()\n",
    "\n",
    "with basic_model:\n",
    "\n",
    "    # Priors for unknown model parameters\n",
    "    ads = pm.Normal(\"ads\", mu=-0.2, sigma=0.65)\n",
    "    add = pm.Normal('add', mu = -0.35, sigma = 0.7)\n",
    "    adp = pm.Normal(\"adp\", mu = 0, sigma = 0.7)\n",
    "    zdin = pm.Normal(\"zdin\", mu = -0.4, sigma = 0.7)\n",
    "    zdout = pm.Normal(\"zdout\", mu = -0.35, sigma = 0.55)\n",
    "    gel = pm.Normal(\"gel\", mu = -0.2, sigma = 0.55)\n",
    "    massa = pm.Normal(\"massa\", mu = -0.35, sigma = 0.65)\n",
    "    akkom = pm.Normal(\"akkom\", mu = 0.2, sigma = 0.6)\n",
    "    sluh = pm.Normal(\"sluh\", mu = 0, sigma = 0.65)\n",
    "    balance = pm.Normal(\"balance\", mu = -0.2, sigma = 0.65)\n",
    "    epsilon = pm.Normal(\"epsilon\", mu=-0.1, sigma=1)\n",
    "    \n",
    "\n",
    "    # Expected value of outcome\n",
    "    mu = epsilon + ads*trans(x_train['АДС']) + add*trans(x_train['АДД']) + adp*trans(x_train['АДП']) + zdin*trans(x_train['ЗДВдох']) + \\\n",
    "     zdout * trans(x_train['ЗДВыдох']) + gel * trans(x_train['ЖЕЛ']) + massa * trans(x_train['Масса тела']) + \\\n",
    "    akkom * trans(x_train['Аккомодация']) + sluh * trans(x_train['Острота слуха']) + balance * trans(x_train['Стат.балансировка'])\n",
    "        \n",
    "\n",
    "    # Likelihood (sampling distribution) of observations\n",
    "    Y_obs = pm.Normal(\"Y_obs\", mu=mu, sigma=0.95, observed=trans(y_train))"
   ]
  },
  {
   "cell_type": "code",
   "execution_count": 53,
   "id": "29f47ae5",
   "metadata": {},
   "outputs": [
    {
     "name": "stderr",
     "output_type": "stream",
     "text": [
      "C:\\Users\\Main\\AppData\\Roaming\\Python\\Python39\\site-packages\\pytensor\\tensor\\rewriting\\elemwise.py:1028: UserWarning: Loop fusion failed because the resulting node would exceed the kernel argument limit.\n",
      "  warn(\n",
      "Auto-assigning NUTS sampler...\n",
      "Initializing NUTS using jitter+adapt_diag...\n",
      "C:\\Users\\Main\\AppData\\Roaming\\Python\\Python39\\site-packages\\pytensor\\tensor\\rewriting\\elemwise.py:1028: UserWarning: Loop fusion failed because the resulting node would exceed the kernel argument limit.\n",
      "  warn(\n",
      "Multiprocess sampling (2 chains in 2 jobs)\n",
      "NUTS: [ads, add, adp, zdin, zdout, gel, massa, akkom, sluh, balance, epsilon]\n"
     ]
    },
    {
     "data": {
      "text/html": [
       "\n",
       "<style>\n",
       "    /* Turns off some styling */\n",
       "    progress {\n",
       "        /* gets rid of default border in Firefox and Opera. */\n",
       "        border: none;\n",
       "        /* Needs to be in here for Safari polyfill so background images work as expected. */\n",
       "        background-size: auto;\n",
       "    }\n",
       "    progress:not([value]), progress:not([value])::-webkit-progress-bar {\n",
       "        background: repeating-linear-gradient(45deg, #7e7e7e, #7e7e7e 10px, #5c5c5c 10px, #5c5c5c 20px);\n",
       "    }\n",
       "    .progress-bar-interrupted, .progress-bar-interrupted::-webkit-progress-bar {\n",
       "        background: #F44336;\n",
       "    }\n",
       "</style>\n"
      ],
      "text/plain": [
       "<IPython.core.display.HTML object>"
      ]
     },
     "metadata": {},
     "output_type": "display_data"
    },
    {
     "data": {
      "text/html": [
       "\n",
       "    <div>\n",
       "      <progress value='3000' class='' max='3000' style='width:300px; height:20px; vertical-align: middle;'></progress>\n",
       "      100.00% [3000/3000 00:27&lt;00:00 Sampling 2 chains, 0 divergences]\n",
       "    </div>\n",
       "    "
      ],
      "text/plain": [
       "<IPython.core.display.HTML object>"
      ]
     },
     "metadata": {},
     "output_type": "display_data"
    },
    {
     "name": "stderr",
     "output_type": "stream",
     "text": [
      "Sampling 2 chains for 1_000 tune and 500 draw iterations (2_000 + 1_000 draws total) took 33 seconds.\n",
      "We recommend running at least 4 chains for robust computation of convergence diagnostics\n"
     ]
    }
   ],
   "source": [
    "with basic_model:\n",
    "    # draw 500 posterior samples\n",
    "    trace = pm.sample(500, return_inferencedata=False)"
   ]
  },
  {
   "cell_type": "code",
   "execution_count": 54,
   "id": "b03e0752",
   "metadata": {},
   "outputs": [],
   "source": [
    "var_weights = {}\n",
    "column = ['ads', 'add', 'adp', 'zdin', 'zdout', 'gel', 'massa', 'akkom', 'sluh', 'balance']\n",
    "# var_weights['intercept'] = -0.09\n",
    "var_weights['intercept'] = trace['epsilon'].mean()\n",
    "for i, c in enumerate(column):\n",
    "      var_weights[c] = trace[c].mean()\n",
    "var_weights = pd.DataFrame(var_weights, index=[0])\n",
    "\n",
    "# storing the standard deviation -> useful for plotting prediction distribution\n",
    "# sd = trace['sigma'].mean()"
   ]
  },
  {
   "cell_type": "code",
   "execution_count": 55,
   "id": "84718fae",
   "metadata": {},
   "outputs": [],
   "source": [
    "bayes_test_set_scaled = np.append(np.ones((len(x_test), 1)), x_test_transformed, axis=1)\n",
    "bayes_test_set_prediction_scaled = np.dot(bayes_test_set_scaled, np.array(var_weights).T)\n",
    "bayes_test_set_prediction = scaller.inverse_transform(bayes_test_set_prediction_scaled)"
   ]
  },
  {
   "cell_type": "code",
   "execution_count": 56,
   "id": "07cb6882",
   "metadata": {},
   "outputs": [
    {
     "data": {
      "text/plain": [
       "6.594896514091046"
      ]
     },
     "execution_count": 56,
     "metadata": {},
     "output_type": "execute_result"
    }
   ],
   "source": [
    "mean_absolute_error(y_test, bayes_test_set_prediction)"
   ]
  },
  {
   "cell_type": "code",
   "execution_count": 15,
   "id": "9c87ee5c",
   "metadata": {},
   "outputs": [],
   "source": [
    "basic_model = pm.Model()\n",
    "\n",
    "with basic_model:\n",
    "\n",
    "    # Priors for unknown model parameters\n",
    "    ads = pm.Normal(\"ads\", mu=-0.2, sigma=0.65)\n",
    "    add = pm.Normal('add', mu = -0.35, sigma = 0.7)\n",
    "    adp = pm.Normal(\"adp\", mu = 0, sigma = 0.7)\n",
    "    zdin = pm.Normal(\"zdin\", mu = -0.4, sigma = 0.7)\n",
    "    zdout = pm.Normal(\"zdout\", mu = -0.35, sigma = 0.55)\n",
    "    gel = pm.Normal(\"gel\", mu = -0.2, sigma = 0.55)\n",
    "    massa = pm.Normal(\"massa\", mu = -0.35, sigma = 0.65)\n",
    "    akkom = pm.Normal(\"akkom\", mu = 0.2, sigma = 0.6)\n",
    "    sluh = pm.Normal(\"sluh\", mu = 0, sigma = 0.65)\n",
    "    balance = pm.Normal(\"balance\", mu = -0.2, sigma = 0.65)\n",
    "    epsilon = pm.Normal(\"epsilon\", mu=0, sigma=1)\n",
    "    \n",
    "\n",
    "    # Expected value of outcome\n",
    "    mu = epsilon + ads*trans(x_train['АДС']) + add*trans(x_train['АДД']) + adp*trans(x_train['АДП']) + zdin*trans(x_train['ЗДВдох']) + \\\n",
    "     zdout * trans(x_train['ЗДВыдох']) + gel * trans(x_train['ЖЕЛ']) + massa * trans(x_train['Масса тела']) + \\\n",
    "    akkom * trans(x_train['Аккомодация']) + sluh * trans(x_train['Острота слуха']) + balance * trans(x_train['Стат.балансировка'])\n",
    "        \n",
    "\n",
    "    # Likelihood (sampling distribution) of observations\n",
    "    Y_obs = pm.Normal(\"Y_obs\", mu=mu, sigma=0.95, observed=trans(y_train))"
   ]
  },
  {
   "cell_type": "code",
   "execution_count": 16,
   "id": "ad3061a6",
   "metadata": {},
   "outputs": [
    {
     "name": "stderr",
     "output_type": "stream",
     "text": [
      "C:\\Users\\Main\\AppData\\Roaming\\Python\\Python39\\site-packages\\pytensor\\tensor\\rewriting\\elemwise.py:1028: UserWarning: Loop fusion failed because the resulting node would exceed the kernel argument limit.\n",
      "  warn(\n",
      "Auto-assigning NUTS sampler...\n",
      "Initializing NUTS using jitter+adapt_diag...\n",
      "C:\\Users\\Main\\AppData\\Roaming\\Python\\Python39\\site-packages\\pytensor\\tensor\\rewriting\\elemwise.py:1028: UserWarning: Loop fusion failed because the resulting node would exceed the kernel argument limit.\n",
      "  warn(\n",
      "Multiprocess sampling (2 chains in 2 jobs)\n",
      "NUTS: [ads, add, adp, zdin, zdout, gel, massa, akkom, sluh, balance, epsilon]\n"
     ]
    },
    {
     "data": {
      "text/html": [
       "\n",
       "<style>\n",
       "    /* Turns off some styling */\n",
       "    progress {\n",
       "        /* gets rid of default border in Firefox and Opera. */\n",
       "        border: none;\n",
       "        /* Needs to be in here for Safari polyfill so background images work as expected. */\n",
       "        background-size: auto;\n",
       "    }\n",
       "    progress:not([value]), progress:not([value])::-webkit-progress-bar {\n",
       "        background: repeating-linear-gradient(45deg, #7e7e7e, #7e7e7e 10px, #5c5c5c 10px, #5c5c5c 20px);\n",
       "    }\n",
       "    .progress-bar-interrupted, .progress-bar-interrupted::-webkit-progress-bar {\n",
       "        background: #F44336;\n",
       "    }\n",
       "</style>\n"
      ],
      "text/plain": [
       "<IPython.core.display.HTML object>"
      ]
     },
     "metadata": {},
     "output_type": "display_data"
    },
    {
     "data": {
      "text/html": [
       "\n",
       "    <div>\n",
       "      <progress value='6000' class='' max='6000' style='width:300px; height:20px; vertical-align: middle;'></progress>\n",
       "      100.00% [6000/6000 00:57&lt;00:00 Sampling 2 chains, 0 divergences]\n",
       "    </div>\n",
       "    "
      ],
      "text/plain": [
       "<IPython.core.display.HTML object>"
      ]
     },
     "metadata": {},
     "output_type": "display_data"
    },
    {
     "name": "stderr",
     "output_type": "stream",
     "text": [
      "Sampling 2 chains for 1_000 tune and 2_000 draw iterations (2_000 + 4_000 draws total) took 64 seconds.\n",
      "We recommend running at least 4 chains for robust computation of convergence diagnostics\n"
     ]
    }
   ],
   "source": [
    "with basic_model:\n",
    "    # draw 500 posterior samples\n",
    "    trace = pm.sample(2000, return_inferencedata=False)"
   ]
  },
  {
   "cell_type": "code",
   "execution_count": 32,
   "id": "822edfd4",
   "metadata": {
    "scrolled": true
   },
   "outputs": [
    {
     "data": {
      "text/plain": [
       "(2000, 10)"
      ]
     },
     "execution_count": 32,
     "metadata": {},
     "output_type": "execute_result"
    }
   ],
   "source": [
    "trace['beta'].shape"
   ]
  },
  {
   "cell_type": "code",
   "execution_count": 17,
   "id": "dd797e42",
   "metadata": {},
   "outputs": [
    {
     "data": {
      "image/png": "[encoded data removed]",
      "text/plain": [
       "<Figure size 460.8x345.6 with 1 Axes>"
      ]
     },
     "metadata": {
      "needs_background": "light"
     },
     "output_type": "display_data"
    }
   ],
   "source": [
    "with basic_model:\n",
    "    az.plot_posterior(trace['ads'])"
   ]
  },
  {
   "cell_type": "code",
   "execution_count": 144,
   "id": "1fef51d5",
   "metadata": {},
   "outputs": [
    {
     "data": {
      "image/png": "[encoded data removed]",
      "text/plain": [
       "<Figure size 432x288 with 1 Axes>"
      ]
     },
     "metadata": {
      "needs_background": "light"
     },
     "output_type": "display_data"
    }
   ],
   "source": [
    "with basic_model:\n",
    "    az.plot_posterior(trace['epsilon'])"
   ]
  },
  {
   "cell_type": "code",
   "execution_count": 18,
   "id": "367e3aa9",
   "metadata": {},
   "outputs": [
    {
     "name": "stderr",
     "output_type": "stream",
     "text": [
      "arviz - WARNING - Shape validation failed: input_shape: (1, 4000), minimum_shape: (chains=2, draws=4)\n"
     ]
    },
    {
     "data": {
      "text/html": [
       "<div>\n",
       "<style scoped>\n",
       "    .dataframe tbody tr th:only-of-type {\n",
       "        vertical-align: middle;\n",
       "    }\n",
       "\n",
       "    .dataframe tbody tr th {\n",
       "        vertical-align: top;\n",
       "    }\n",
       "\n",
       "    .dataframe thead th {\n",
       "        text-align: right;\n",
       "    }\n",
       "</style>\n",
       "<table border=\"1\" class=\"dataframe\">\n",
       "  <thead>\n",
       "    <tr style=\"text-align: right;\">\n",
       "      <th></th>\n",
       "      <th>mean</th>\n",
       "      <th>sd</th>\n",
       "      <th>hdi_3%</th>\n",
       "      <th>hdi_97%</th>\n",
       "      <th>mcse_mean</th>\n",
       "      <th>mcse_sd</th>\n",
       "      <th>ess_bulk</th>\n",
       "      <th>ess_tail</th>\n",
       "      <th>r_hat</th>\n",
       "    </tr>\n",
       "  </thead>\n",
       "  <tbody>\n",
       "    <tr>\n",
       "      <th>x</th>\n",
       "      <td>-0.133</td>\n",
       "      <td>0.217</td>\n",
       "      <td>-0.548</td>\n",
       "      <td>0.269</td>\n",
       "      <td>0.004</td>\n",
       "      <td>0.003</td>\n",
       "      <td>2453.0</td>\n",
       "      <td>2535.0</td>\n",
       "      <td>NaN</td>\n",
       "    </tr>\n",
       "  </tbody>\n",
       "</table>\n",
       "</div>"
      ],
      "text/plain": [
       "    mean     sd  hdi_3%  hdi_97%  mcse_mean  mcse_sd  ess_bulk  ess_tail  \\\n",
       "x -0.133  0.217  -0.548    0.269      0.004    0.003    2453.0    2535.0   \n",
       "\n",
       "   r_hat  \n",
       "x    NaN  "
      ]
     },
     "execution_count": 18,
     "metadata": {},
     "output_type": "execute_result"
    }
   ],
   "source": [
    "# getting the mean values of the parameters as estimates:\n",
    "\n",
    "var_weights = {}\n",
    "pm.summary(trace['ads'])\n"
   ]
  },
  {
   "cell_type": "code",
   "execution_count": 33,
   "id": "e6f6bfb5",
   "metadata": {},
   "outputs": [
    {
     "data": {
      "text/plain": [
       "0.00036733890148491546"
      ]
     },
     "execution_count": 33,
     "metadata": {},
     "output_type": "execute_result"
    }
   ],
   "source": [
    "trace['epsilon'].mean()"
   ]
  },
  {
   "cell_type": "code",
   "execution_count": 146,
   "id": "a9bc3472",
   "metadata": {},
   "outputs": [
    {
     "data": {
      "text/plain": [
       "Index(['АДС', 'АДД', 'АДП', 'ЗДВдох', 'ЗДВыдох', 'ЖЕЛ', 'Масса тела',\n",
       "       'Аккомодация', 'Острота слуха', 'Стат.балансировка'],\n",
       "      dtype='object')"
      ]
     },
     "execution_count": 146,
     "metadata": {},
     "output_type": "execute_result"
    }
   ],
   "source": [
    "x.columns"
   ]
  },
  {
   "cell_type": "code",
   "execution_count": 19,
   "id": "ae490df1",
   "metadata": {},
   "outputs": [],
   "source": [
    "column = ['ads', 'add', 'adp', 'zdin', 'zdout', 'gel', 'massa', 'akkom', 'sluh', 'balance']\n",
    "\n",
    "var_weights['intercept'] = trace['epsilon'].mean()\n",
    "for i, c in enumerate(column):\n",
    "      var_weights[c] = trace[c].mean()\n",
    "var_weights = pd.DataFrame(var_weights, index=[0])\n",
    "\n",
    "# storing the standard deviation -> useful for plotting prediction distribution\n",
    "# sd = trace['sigma'].mean()"
   ]
  },
  {
   "cell_type": "code",
   "execution_count": 21,
   "id": "80fe4b32",
   "metadata": {},
   "outputs": [
    {
     "data": {
      "text/html": [
       "<div>\n",
       "<style scoped>\n",
       "    .dataframe tbody tr th:only-of-type {\n",
       "        vertical-align: middle;\n",
       "    }\n",
       "\n",
       "    .dataframe tbody tr th {\n",
       "        vertical-align: top;\n",
       "    }\n",
       "\n",
       "    .dataframe thead th {\n",
       "        text-align: right;\n",
       "    }\n",
       "</style>\n",
       "<table border=\"1\" class=\"dataframe\">\n",
       "  <thead>\n",
       "    <tr style=\"text-align: right;\">\n",
       "      <th></th>\n",
       "      <th>intercept</th>\n",
       "      <th>ads</th>\n",
       "      <th>add</th>\n",
       "      <th>adp</th>\n",
       "      <th>zdin</th>\n",
       "      <th>zdout</th>\n",
       "      <th>gel</th>\n",
       "      <th>massa</th>\n",
       "      <th>akkom</th>\n",
       "      <th>sluh</th>\n",
       "      <th>balance</th>\n",
       "    </tr>\n",
       "  </thead>\n",
       "  <tbody>\n",
       "    <tr>\n",
       "      <th>0</th>\n",
       "      <td>-0.000535</td>\n",
       "      <td>-0.133168</td>\n",
       "      <td>0.181397</td>\n",
       "      <td>0.202789</td>\n",
       "      <td>-0.015428</td>\n",
       "      <td>-0.03527</td>\n",
       "      <td>-0.123646</td>\n",
       "      <td>-0.246597</td>\n",
       "      <td>-0.023107</td>\n",
       "      <td>0.265269</td>\n",
       "      <td>-0.324299</td>\n",
       "    </tr>\n",
       "  </tbody>\n",
       "</table>\n",
       "</div>"
      ],
      "text/plain": [
       "   intercept       ads       add       adp      zdin    zdout       gel  \\\n",
       "0  -0.000535 -0.133168  0.181397  0.202789 -0.015428 -0.03527 -0.123646   \n",
       "\n",
       "      massa     akkom      sluh   balance  \n",
       "0 -0.246597 -0.023107  0.265269 -0.324299  "
      ]
     },
     "execution_count": 21,
     "metadata": {},
     "output_type": "execute_result"
    }
   ],
   "source": [
    "var_weights"
   ]
  },
  {
   "cell_type": "code",
   "execution_count": 54,
   "id": "a8b83327",
   "metadata": {},
   "outputs": [],
   "source": [
    "var_weights.to_excel('weights_normal_model_40.xlsx')"
   ]
  },
  {
   "cell_type": "code",
   "execution_count": 152,
   "id": "3b254055",
   "metadata": {},
   "outputs": [
    {
     "data": {
      "text/plain": [
       "array([-0.00059955])"
      ]
     },
     "execution_count": 152,
     "metadata": {},
     "output_type": "execute_result"
    }
   ],
   "source": [
    "var_weights['intercept'].values"
   ]
  },
  {
   "cell_type": "code",
   "execution_count": 24,
   "id": "a94a6630",
   "metadata": {},
   "outputs": [],
   "source": [
    "bayes_test_set_scaled = np.append(np.ones((len(x_test), 1)), x_test_transformed, axis=1)\n",
    "bayes_test_set_prediction_scaled = np.dot(bayes_test_set_scaled, np.array(var_weights).T)\n",
    "bayes_test_set_prediction = scaller.inverse_transform(bayes_test_set_prediction_scaled)"
   ]
  },
  {
   "cell_type": "code",
   "execution_count": 19,
   "id": "21f773c9",
   "metadata": {},
   "outputs": [],
   "source": [
    "from sklearn.metrics import accuracy_score, mean_absolute_error"
   ]
  },
  {
   "cell_type": "code",
   "execution_count": 26,
   "id": "f6bdcae3",
   "metadata": {},
   "outputs": [
    {
     "data": {
      "text/plain": [
       "6.131294131346451"
      ]
     },
     "execution_count": 26,
     "metadata": {},
     "output_type": "execute_result"
    }
   ],
   "source": [
    "mean_absolute_error(y_test, bayes_test_set_prediction)"
   ]
  },
  {
   "cell_type": "code",
   "execution_count": 28,
   "id": "75b17b1a",
   "metadata": {},
   "outputs": [],
   "source": [
    "student_model = pm.Model()\n",
    "\n",
    "with student_model:\n",
    "\n",
    "    # Priors for unknown model parameters\n",
    "    ads = pm.Normal(\"ads\", mu=-0.2, sigma=0.65)\n",
    "    add = pm.Normal('add', mu = -0.35, sigma = 0.7)\n",
    "    adp = pm.Normal(\"adp\", mu = 0, sigma = 0.7)\n",
    "    zdin = pm.Normal(\"zdin\", mu = -0.4, sigma = 0.7)\n",
    "    zdout = pm.Normal(\"zdout\", mu = -0.35, sigma = 0.55)\n",
    "    gel = pm.Normal(\"gel\", mu = -0.2, sigma = 0.55)\n",
    "    massa = pm.Normal(\"massa\", mu = -0.35, sigma = 0.65)\n",
    "    akkom = pm.Normal(\"akkom\", mu = 0.2, sigma = 0.6)\n",
    "    sluh = pm.Normal(\"sluh\", mu = 0, sigma = 0.65)\n",
    "    balance = pm.Normal(\"balance\", mu = -0.2, sigma = 0.65)\n",
    "    epsilon = pm.Normal(\"epsilon\", mu=0, sigma=1)\n",
    "    \n",
    "\n",
    "    # Expected value of outcome\n",
    "    mu = epsilon + ads*trans(x_train['АДС']) + add*trans(x_train['АДД']) + adp*trans(x_train['АДП']) + zdin*trans(x_train['ЗДВдох']) + \\\n",
    "     zdout * trans(x_train['ЗДВыдох']) + gel * trans(x_train['ЖЕЛ']) + massa * trans(x_train['Масса тела']) + \\\n",
    "    akkom * trans(x_train['Аккомодация']) + sluh * trans(x_train['Острота слуха']) + balance * trans(x_train['Стат.балансировка'])\n",
    "        \n",
    "\n",
    "    # Likelihood (sampling distribution) of observations\n",
    "    Y_obs = pm.StudentT(\"Y_obs\", mu=mu, nu=10,  sigma=0.95,observed=trans(y_train))\n",
    "    "
   ]
  },
  {
   "cell_type": "code",
   "execution_count": 29,
   "id": "cc5ddcb3",
   "metadata": {},
   "outputs": [
    {
     "name": "stderr",
     "output_type": "stream",
     "text": [
      "C:\\Users\\Main\\AppData\\Roaming\\Python\\Python39\\site-packages\\pytensor\\tensor\\rewriting\\elemwise.py:1028: UserWarning: Loop fusion failed because the resulting node would exceed the kernel argument limit.\n",
      "  warn(\n",
      "Auto-assigning NUTS sampler...\n",
      "Initializing NUTS using jitter+adapt_diag...\n",
      "C:\\Users\\Main\\AppData\\Roaming\\Python\\Python39\\site-packages\\pytensor\\tensor\\rewriting\\elemwise.py:1028: UserWarning: Loop fusion failed because the resulting node would exceed the kernel argument limit.\n",
      "  warn(\n",
      "Multiprocess sampling (2 chains in 2 jobs)\n",
      "NUTS: [ads, add, adp, zdin, zdout, gel, massa, akkom, sluh, balance, epsilon]\n"
     ]
    },
    {
     "data": {
      "text/html": [
       "\n",
       "<style>\n",
       "    /* Turns off some styling */\n",
       "    progress {\n",
       "        /* gets rid of default border in Firefox and Opera. */\n",
       "        border: none;\n",
       "        /* Needs to be in here for Safari polyfill so background images work as expected. */\n",
       "        background-size: auto;\n",
       "    }\n",
       "    progress:not([value]), progress:not([value])::-webkit-progress-bar {\n",
       "        background: repeating-linear-gradient(45deg, #7e7e7e, #7e7e7e 10px, #5c5c5c 10px, #5c5c5c 20px);\n",
       "    }\n",
       "    .progress-bar-interrupted, .progress-bar-interrupted::-webkit-progress-bar {\n",
       "        background: #F44336;\n",
       "    }\n",
       "</style>\n"
      ],
      "text/plain": [
       "<IPython.core.display.HTML object>"
      ]
     },
     "metadata": {},
     "output_type": "display_data"
    },
    {
     "data": {
      "text/html": [
       "\n",
       "    <div>\n",
       "      <progress value='3000' class='' max='3000' style='width:300px; height:20px; vertical-align: middle;'></progress>\n",
       "      100.00% [3000/3000 03:33&lt;00:00 Sampling 2 chains, 0 divergences]\n",
       "    </div>\n",
       "    "
      ],
      "text/plain": [
       "<IPython.core.display.HTML object>"
      ]
     },
     "metadata": {},
     "output_type": "display_data"
    },
    {
     "name": "stderr",
     "output_type": "stream",
     "text": [
      "Sampling 2 chains for 1_000 tune and 500 draw iterations (2_000 + 1_000 draws total) took 219 seconds.\n",
      "We recommend running at least 4 chains for robust computation of convergence diagnostics\n"
     ]
    }
   ],
   "source": [
    "with student_model:\n",
    "    # draw 500 posterior samples\n",
    "    trace1 = pm.sample(500, return_inferencedata=False)"
   ]
  },
  {
   "cell_type": "code",
   "execution_count": 30,
   "id": "4753659e",
   "metadata": {},
   "outputs": [],
   "source": [
    "var_weights['intercept'] = trace1['epsilon'].mean()\n",
    "for i, c in enumerate(column):\n",
    "      var_weights[c] = trace1[c].mean()\n",
    "var_weights = pd.DataFrame(var_weights, index=[0])"
   ]
  },
  {
   "cell_type": "code",
   "execution_count": 31,
   "id": "8e283604",
   "metadata": {},
   "outputs": [],
   "source": [
    "bayes_test_set_scaled = np.append(np.ones((len(x_test), 1)), x_test_transformed, axis=1)\n",
    "bayes_test_set_prediction_scaled = np.dot(bayes_test_set_scaled, np.array(var_weights).T)\n",
    "bayes_test_set_prediction = scaller.inverse_transform(bayes_test_set_prediction_scaled)"
   ]
  },
  {
   "cell_type": "code",
   "execution_count": 32,
   "id": "986dafec",
   "metadata": {},
   "outputs": [],
   "source": [
    "from sklearn.metrics import accuracy_score, mean_absolute_error"
   ]
  },
  {
   "cell_type": "code",
   "execution_count": 33,
   "id": "852b76e6",
   "metadata": {},
   "outputs": [],
   "source": [
    "from scipy import stats"
   ]
  },
  {
   "cell_type": "code",
   "execution_count": 34,
   "id": "3818b39c",
   "metadata": {},
   "outputs": [
    {
     "data": {
      "text/plain": [
       "6.522869542724667"
      ]
     },
     "execution_count": 34,
     "metadata": {},
     "output_type": "execute_result"
    }
   ],
   "source": [
    "mean_absolute_error(y_test, bayes_test_set_prediction)"
   ]
  },
  {
   "cell_type": "code",
   "execution_count": 35,
   "id": "0e99cb9f",
   "metadata": {},
   "outputs": [
    {
     "name": "stderr",
     "output_type": "stream",
     "text": [
      "Sampling: [Y_obs]\n"
     ]
    },
    {
     "data": {
      "text/html": [
       "\n",
       "<style>\n",
       "    /* Turns off some styling */\n",
       "    progress {\n",
       "        /* gets rid of default border in Firefox and Opera. */\n",
       "        border: none;\n",
       "        /* Needs to be in here for Safari polyfill so background images work as expected. */\n",
       "        background-size: auto;\n",
       "    }\n",
       "    progress:not([value]), progress:not([value])::-webkit-progress-bar {\n",
       "        background: repeating-linear-gradient(45deg, #7e7e7e, #7e7e7e 10px, #5c5c5c 10px, #5c5c5c 20px);\n",
       "    }\n",
       "    .progress-bar-interrupted, .progress-bar-interrupted::-webkit-progress-bar {\n",
       "        background: #F44336;\n",
       "    }\n",
       "</style>\n"
      ],
      "text/plain": [
       "<IPython.core.display.HTML object>"
      ]
     },
     "metadata": {},
     "output_type": "display_data"
    },
    {
     "data": {
      "text/html": [
       "\n",
       "    <div>\n",
       "      <progress value='4000' class='' max='4000' style='width:300px; height:20px; vertical-align: middle;'></progress>\n",
       "      100.00% [4000/4000 00:40&lt;00:00]\n",
       "    </div>\n",
       "    "
      ],
      "text/plain": [
       "<IPython.core.display.HTML object>"
      ]
     },
     "metadata": {},
     "output_type": "display_data"
    }
   ],
   "source": [
    "post_pred = pm.sample_posterior_predictive(trace, model=basic_model,predictions=True)"
   ]
  },
  {
   "cell_type": "code",
   "execution_count": 36,
   "id": "8b6a496d",
   "metadata": {},
   "outputs": [],
   "source": [
    "y_pred = post_pred.to_dict()['predictions']['Y_obs']"
   ]
  },
  {
   "cell_type": "code",
   "execution_count": 37,
   "id": "c9fb8923",
   "metadata": {},
   "outputs": [
    {
     "data": {
      "text/plain": [
       "(187,)"
      ]
     },
     "execution_count": 37,
     "metadata": {},
     "output_type": "execute_result"
    }
   ],
   "source": [
    "y_pred.mean(axis = 0).mean(axis = 0).shape"
   ]
  },
  {
   "cell_type": "code",
   "execution_count": 81,
   "id": "9b0b9064",
   "metadata": {},
   "outputs": [
    {
     "data": {
      "text/plain": [
       "defaultdict(dict,\n",
       "            {'predictions': {'Y_obs': array([[[-2.88032057, -1.07384339,  0.88692709, ..., -0.73630486,\n",
       "                        0.46585689, -0.57309309],\n",
       "                      [-1.78541961, -1.15576084, -1.04016069, ..., -1.83696792,\n",
       "                        1.25776808, -1.2881717 ],\n",
       "                      [-1.86861827, -0.30825189, -1.44029533, ..., -1.93804685,\n",
       "                       -0.85835528, -1.27179604],\n",
       "                      ...,\n",
       "                      [-0.30955511, -2.19921097,  0.09808243, ..., -2.32964805,\n",
       "                        0.02985051, -1.37115615],\n",
       "                      [-1.95000228,  0.48140666, -0.22738159, ...,  1.00073521,\n",
       "                       -0.0486797 ,  0.14930129],\n",
       "                      [-2.75850069, -0.06833384, -0.02221799, ..., -0.31416917,\n",
       "                       -1.43928418,  0.99553627]],\n",
       "              \n",
       "                     [[-1.82354698, -1.06565155,  2.91547879, ..., -1.98471066,\n",
       "                        0.08599421, -1.26550856],\n",
       "                      [-0.23442048,  1.89105993, -1.15060891, ..., -2.86835525,\n",
       "                       -0.169066  , -0.90941707],\n",
       "                      [-0.54979925, -1.69948484,  1.9483441 , ..., -2.2153209 ,\n",
       "                       -0.88637456, -1.25746606],\n",
       "                      ...,\n",
       "                      [-2.84127623,  1.11131455,  2.35189676, ..., -1.52890795,\n",
       "                        0.03500617,  0.61966984],\n",
       "                      [-1.9474398 , -0.570404  , -0.80469823, ..., -0.12280069,\n",
       "                        1.12103437, -0.4703302 ],\n",
       "                      [ 1.65584422, -2.02467923,  0.06810896, ..., -3.5899598 ,\n",
       "                       -0.75401998, -0.48619926]]])},\n",
       "             'predictions_attrs': {'created_at': '2023-09-29T13:37:07.966226',\n",
       "              'arviz_version': '0.16.1',\n",
       "              'inference_library': 'pymc',\n",
       "              'inference_library_version': '5.7.2+7.g9956991e'},\n",
       "             'attrs': {}})"
      ]
     },
     "execution_count": 81,
     "metadata": {},
     "output_type": "execute_result"
    }
   ],
   "source": [
    "post_pred.to_dict()"
   ]
  },
  {
   "cell_type": "code",
   "execution_count": 41,
   "id": "2539f4cf",
   "metadata": {},
   "outputs": [],
   "source": [
    "bayes_test_set_prediction_0 = scaller.inverse_transform(y_pred.reshape(-1, 1))"
   ]
  },
  {
   "cell_type": "code",
   "execution_count": 38,
   "id": "73e1581e",
   "metadata": {},
   "outputs": [],
   "source": [
    "y_pred = y_pred.mean(axis = 0).mean(axis = 0)"
   ]
  },
  {
   "cell_type": "code",
   "execution_count": 39,
   "id": "f64ce697",
   "metadata": {},
   "outputs": [
    {
     "data": {
      "text/plain": [
       "array([ 8.93912872e-02, -2.61002766e-01,  3.69189000e-01, -7.15714784e-01,\n",
       "       -1.23218949e+00,  3.26532237e-01,  7.74342221e-02,  3.97535220e-01,\n",
       "        1.83725421e-01, -1.26436809e+00, -1.01542802e-01,  1.51462143e+00,\n",
       "        7.12983498e-02,  1.14794786e-01, -1.10600406e+00,  2.18229702e-01,\n",
       "        2.40167734e-01, -3.26738073e-01,  9.70753377e-02,  8.48878553e-02,\n",
       "       -3.58510309e-01,  4.40401496e-01,  9.34153587e-01, -2.72270048e-01,\n",
       "        1.06530705e-01,  1.02654577e-01, -4.47357332e-01, -5.97212200e-01,\n",
       "       -1.14148186e-01, -4.16529726e-02,  9.80691256e-02, -6.47778136e-01,\n",
       "        7.78254393e-02, -8.38788165e-02, -7.51628923e-01,  1.15618592e-01,\n",
       "       -7.17308487e-01,  1.05185295e-01, -9.35424388e-02,  4.90001581e-01,\n",
       "        4.56217729e-01,  9.42374324e-02,  1.25291870e-01,  9.70500788e-02,\n",
       "       -3.90108480e-01, -3.43339942e-02,  1.17892556e+00,  1.21160431e-01,\n",
       "        9.57382682e-02,  9.81683663e-01, -6.68815300e-01,  7.92102513e-02,\n",
       "        1.29088989e-01,  3.08379963e-01,  3.57068181e-02,  5.28066975e-01,\n",
       "       -9.37543738e-01, -1.39688060e+00,  3.78759159e-01,  9.33549896e-02,\n",
       "        9.56360172e-02,  4.58003561e-01,  9.00163678e-02, -2.83143396e-01,\n",
       "        1.02750019e-01,  9.12191431e-01, -1.15984979e+00, -8.11363631e-01,\n",
       "        9.49538454e-02,  1.05322007e+00,  3.84844261e-01,  2.42323850e-01,\n",
       "        7.88529000e-02,  1.21328048e-01,  1.53274088e+00,  6.36517670e-03,\n",
       "        5.46898833e-02, -1.55641265e-01,  1.00162633e+00, -2.77839991e-01,\n",
       "        1.08946112e+00,  5.55512668e-01,  1.07967414e-01,  8.80954765e-02,\n",
       "        1.30548632e-01,  1.20361301e-01, -3.56535151e-01, -5.84606668e-01,\n",
       "       -2.66372395e-01,  1.07656389e-01,  8.77054223e-01,  6.71077041e-02,\n",
       "        3.79349719e-01, -1.18289379e+00,  8.77477903e-02,  1.07110855e-01,\n",
       "       -4.34167779e-02, -3.65712299e-01, -9.62040977e-02,  3.13994533e-02,\n",
       "       -8.04949187e-01, -4.24437495e-01, -5.97850062e-01,  8.40702568e-02,\n",
       "        7.99882866e-02,  1.08357845e-01,  2.56919942e-02,  6.49866735e-01,\n",
       "        4.75170592e-01, -3.96169694e-01, -1.00388393e+00, -7.90474399e-01,\n",
       "        9.44516372e-01,  1.12100670e-01,  2.18405667e-01, -2.38066558e+00,\n",
       "        3.42711856e-01,  6.39202906e-01, -1.75771026e-01, -5.29654897e-01,\n",
       "        1.06188583e-01,  1.04850539e-01,  2.35265549e+00, -3.19241220e-01,\n",
       "        3.71029137e-01,  1.02192155e-01,  9.93244928e-02,  3.49173482e-01,\n",
       "       -7.53708037e-02,  9.76274378e-01, -1.19587901e+00,  2.75997352e-03,\n",
       "        1.01987702e-01,  4.05825060e-01,  5.98010286e-01, -5.49438218e-01,\n",
       "        1.13111958e+00, -8.14609489e-01, -5.74327288e-01,  1.12721375e-01,\n",
       "        9.46981786e-02,  8.46110685e-02,  2.67188426e-01,  1.05960800e-01,\n",
       "        1.00450094e-01,  4.97716364e-01,  4.41736619e-02,  2.14817405e-01,\n",
       "        3.58674929e-01,  4.28106635e-02,  1.15856553e-03, -4.57208835e-01,\n",
       "       -8.18974650e-01, -1.27597337e-02,  5.78979080e-01, -1.03757458e+00,\n",
       "       -3.38109848e-01,  4.20214640e-01, -1.09791139e+00,  8.52452078e-01,\n",
       "       -8.74383011e-01, -2.32787153e-02,  1.77341387e+00, -8.96710377e-01,\n",
       "        1.10298026e-01, -1.22380711e+00, -2.81810594e-01, -3.32432255e-01,\n",
       "        8.85262840e-02, -3.02018545e-01,  1.02504056e+00,  8.28427061e-02,\n",
       "       -7.30829990e-01, -1.89660737e-01,  1.97857303e-01,  6.33500182e-01,\n",
       "        1.07762580e-01, -4.38758920e-01, -8.02209174e-01,  8.34934327e-02,\n",
       "        4.41816579e-01, -2.08581005e-01,  2.83395360e-01,  1.16179900e-01,\n",
       "       -3.69954509e-01, -8.14469150e-01, -5.28281186e-01])"
      ]
     },
     "execution_count": 39,
     "metadata": {},
     "output_type": "execute_result"
    }
   ],
   "source": [
    "y_pred"
   ]
  },
  {
   "cell_type": "code",
   "execution_count": 70,
   "id": "02fe1425",
   "metadata": {},
   "outputs": [
    {
     "data": {
      "text/plain": [
       "(234,)"
      ]
     },
     "execution_count": 70,
     "metadata": {},
     "output_type": "execute_result"
    }
   ],
   "source": [
    "y_40.shape"
   ]
  },
  {
   "cell_type": "code",
   "execution_count": 42,
   "id": "f8e704a6",
   "metadata": {},
   "outputs": [
    {
     "data": {
      "text/plain": [
       "6.403597225426734"
      ]
     },
     "execution_count": 42,
     "metadata": {},
     "output_type": "execute_result"
    }
   ],
   "source": [
    "mean_absolute_error(y_train, bayes_test_set_prediction_0)"
   ]
  },
  {
   "cell_type": "code",
   "execution_count": 43,
   "id": "d3f3b9d1",
   "metadata": {},
   "outputs": [],
   "source": [
    "import pickle"
   ]
  },
  {
   "cell_type": "code",
   "execution_count": 44,
   "id": "bdd244b3",
   "metadata": {},
   "outputs": [],
   "source": [
    "model_fpath = 'bayesian_normal_man_40.pkl'"
   ]
  },
  {
   "cell_type": "code",
   "execution_count": 119,
   "id": "9aeb9016",
   "metadata": {},
   "outputs": [
    {
     "ename": "AttributeError",
     "evalue": "Can't pickle local object '_make_nice_attr_error.<locals>.fn'",
     "output_type": "error",
     "traceback": [
      "\u001b[1;31m---------------------------------------------------------------------------\u001b[0m",
      "\u001b[1;31mAttributeError\u001b[0m                            Traceback (most recent call last)",
      "\u001b[1;32m~\\AppData\\Local\\Temp/ipykernel_2124/1434762004.py\u001b[0m in \u001b[0;36m<module>\u001b[1;34m\u001b[0m\n\u001b[0;32m      1\u001b[0m \u001b[1;32mwith\u001b[0m \u001b[0mopen\u001b[0m\u001b[1;33m(\u001b[0m\u001b[0mmodel_fpath\u001b[0m\u001b[1;33m,\u001b[0m \u001b[1;34m'wb'\u001b[0m\u001b[1;33m)\u001b[0m \u001b[1;32mas\u001b[0m \u001b[0mbuff\u001b[0m\u001b[1;33m:\u001b[0m\u001b[1;33m\u001b[0m\u001b[1;33m\u001b[0m\u001b[0m\n\u001b[1;32m----> 2\u001b[1;33m     \u001b[0mpickle\u001b[0m\u001b[1;33m.\u001b[0m\u001b[0mdump\u001b[0m\u001b[1;33m(\u001b[0m\u001b[1;33m{\u001b[0m\u001b[1;34m'model'\u001b[0m\u001b[1;33m:\u001b[0m \u001b[0mstudent_model\u001b[0m\u001b[1;33m,\u001b[0m \u001b[1;34m'trace'\u001b[0m\u001b[1;33m:\u001b[0m \u001b[0mtrace1\u001b[0m\u001b[1;33m}\u001b[0m\u001b[1;33m,\u001b[0m \u001b[0mbuff\u001b[0m\u001b[1;33m)\u001b[0m\u001b[1;33m\u001b[0m\u001b[1;33m\u001b[0m\u001b[0m\n\u001b[0m",
      "\u001b[1;31mAttributeError\u001b[0m: Can't pickle local object '_make_nice_attr_error.<locals>.fn'"
     ]
    }
   ],
   "source": [
    "with open(model_fpath, 'wb') as buff:\n",
    "    pickle.dump({'model': student_model, 'trace': trace1}, buff)"
   ]
  },
  {
   "cell_type": "code",
   "execution_count": 45,
   "id": "2365921f",
   "metadata": {},
   "outputs": [
    {
     "data": {
      "text/plain": [
       "1080531"
      ]
     },
     "execution_count": 45,
     "metadata": {},
     "output_type": "execute_result"
    }
   ],
   "source": [
    "import cloudpickle\n",
    "\n",
    "Model = cloudpickle.dumps({'model': basic_model, 'trace': trace})\n",
    "file = open('bayesian_normal_man_40.pkl', 'wb')\n",
    "file.write(Model)"
   ]
  },
  {
   "cell_type": "code",
   "execution_count": 46,
   "id": "f0e95687",
   "metadata": {},
   "outputs": [],
   "source": [
    "file = open('bayesian_normal_man_40.pkl','rb')\n",
    "pickled_model = cloudpickle.loads(file.read())"
   ]
  },
  {
   "cell_type": "code",
   "execution_count": 47,
   "id": "9c31fdbb",
   "metadata": {},
   "outputs": [
    {
     "data": {
      "text/plain": [
       "{'model':     ads ~ Normal(-0.2, 0.65)\n",
       "     add ~ Normal(-0.35, 0.7)\n",
       "     adp ~ Normal(0, 0.7)\n",
       "    zdin ~ Normal(-0.4, 0.7)\n",
       "   zdout ~ Normal(-0.35, 0.55)\n",
       "     gel ~ Normal(-0.2, 0.55)\n",
       "   massa ~ Normal(-0.35, 0.65)\n",
       "   akkom ~ Normal(0.2, 0.6)\n",
       "    sluh ~ Normal(0, 0.65)\n",
       " balance ~ Normal(-0.2, 0.65)\n",
       " epsilon ~ Normal(0, 1)\n",
       "   Y_obs ~ Normal(f(balance, sluh, akkom, massa, gel, zdout, zdin, adp, add, epsilon, ads), 0.95),\n",
       " 'trace': <MultiTrace: 2 chains, 2000 iterations, 11 variables>}"
      ]
     },
     "execution_count": 47,
     "metadata": {},
     "output_type": "execute_result"
    }
   ],
   "source": [
    "pickled_model"
   ]
  },
  {
   "cell_type": "code",
   "execution_count": 48,
   "id": "ae3badc1",
   "metadata": {},
   "outputs": [
    {
     "name": "stderr",
     "output_type": "stream",
     "text": [
      "Sampling: [Y_obs]\n"
     ]
    },
    {
     "data": {
      "text/html": [
       "\n",
       "<style>\n",
       "    /* Turns off some styling */\n",
       "    progress {\n",
       "        /* gets rid of default border in Firefox and Opera. */\n",
       "        border: none;\n",
       "        /* Needs to be in here for Safari polyfill so background images work as expected. */\n",
       "        background-size: auto;\n",
       "    }\n",
       "    progress:not([value]), progress:not([value])::-webkit-progress-bar {\n",
       "        background: repeating-linear-gradient(45deg, #7e7e7e, #7e7e7e 10px, #5c5c5c 10px, #5c5c5c 20px);\n",
       "    }\n",
       "    .progress-bar-interrupted, .progress-bar-interrupted::-webkit-progress-bar {\n",
       "        background: #F44336;\n",
       "    }\n",
       "</style>\n"
      ],
      "text/plain": [
       "<IPython.core.display.HTML object>"
      ]
     },
     "metadata": {},
     "output_type": "display_data"
    },
    {
     "data": {
      "text/html": [
       "\n",
       "    <div>\n",
       "      <progress value='4000' class='' max='4000' style='width:300px; height:20px; vertical-align: middle;'></progress>\n",
       "      100.00% [4000/4000 00:40&lt;00:00]\n",
       "    </div>\n",
       "    "
      ],
      "text/plain": [
       "<IPython.core.display.HTML object>"
      ]
     },
     "metadata": {},
     "output_type": "display_data"
    }
   ],
   "source": [
    "post_pred_model = pm.sample_posterior_predictive(pickled_model['trace'], model=pickled_model['model'],predictions=True)"
   ]
  },
  {
   "cell_type": "code",
   "execution_count": 49,
   "id": "9c0afc2a",
   "metadata": {},
   "outputs": [],
   "source": [
    "y_pred_model = post_pred_model.to_dict()['predictions']['Y_obs']"
   ]
  },
  {
   "cell_type": "code",
   "execution_count": 50,
   "id": "45b84345",
   "metadata": {},
   "outputs": [],
   "source": [
    "y_pred_model = y_pred_model.mean(axis = 0).mean(axis = 0)"
   ]
  },
  {
   "cell_type": "code",
   "execution_count": 51,
   "id": "cb8943e6",
   "metadata": {},
   "outputs": [],
   "source": [
    "bayes_test_set_prediction_model = scaller.inverse_transform(y_pred_model.reshape(-1, 1))"
   ]
  },
  {
   "cell_type": "code",
   "execution_count": 53,
   "id": "dd4dd916",
   "metadata": {},
   "outputs": [
    {
     "data": {
      "text/plain": [
       "6.393141685031782"
      ]
     },
     "execution_count": 53,
     "metadata": {},
     "output_type": "execute_result"
    }
   ],
   "source": [
    "mean_absolute_error(y_train, bayes_test_set_prediction_model)"
   ]
  },
  {
   "cell_type": "code",
   "execution_count": 80,
   "id": "fbc4c6d9",
   "metadata": {},
   "outputs": [],
   "source": [
    "poly_model = pm.Model()\n",
    "\n",
    "with poly_model:\n",
    "\n",
    "    # Priors for unknown model parameters\n",
    "    ads = pm.Normal(\"ads\", mu=-0.2, sigma=0.65)\n",
    "    add = pm.Normal('add', mu = -0.35, sigma = 0.7)\n",
    "    adp = pm.Normal(\"adp\", mu = 0, sigma = 0.7)\n",
    "    zdin = pm.Normal(\"zdin\", mu = -0.4, sigma = 0.7)\n",
    "    zdout = pm.Normal(\"zdout\", mu = -0.35, sigma = 0.55)\n",
    "    gel = pm.Normal(\"gel\", mu = -0.2, sigma = 0.55)\n",
    "    massa = pm.Normal(\"massa\", mu = -0.35, sigma = 0.65)\n",
    "    akkom = pm.Normal(\"akkom\", mu = 0.2, sigma = 0.6)\n",
    "    sluh = pm.Normal(\"sluh\", mu = 0, sigma = 0.65)\n",
    "    balance = pm.Normal(\"balance\", mu = -0.2, sigma = 0.65)\n",
    "    \n",
    "    ads_2 = pm.Normal(\"ads_2\", mu=-0.2, sigma=0.65)\n",
    "    add_2 = pm.Normal('add_2', mu = -0.35, sigma = 0.7)\n",
    "    adp_2 = pm.Normal(\"adp_2\", mu = -0.2, sigma = 0.7)\n",
    "    zdin_2 = pm.Normal(\"zdin_2\", mu = -0.4, sigma = 0.7)\n",
    "    zdout_2 = pm.Normal(\"zdout_2\", mu = -0.35, sigma = 0.55)\n",
    "    gel_2 = pm.Normal(\"gel_2\", mu = -0.25, sigma = 0.55)\n",
    "    massa_2 = pm.Normal(\"massa_2\", mu = -0.4, sigma = 0.65)\n",
    "    akkom_2 = pm.Normal(\"akkom_2\", mu = -0.1, sigma = 0.6)\n",
    "    sluh_2 = pm.Normal(\"sluh_2\", mu = -0.2, sigma = 0.5)\n",
    "    balance_2 = pm.Normal(\"balance_2\", mu = -0.2, sigma = 0.4)\n",
    "    epsilon = pm.Normal(\"epsilon\", mu=-0.1, sigma=1)\n",
    "    \n",
    "\n",
    "    # Expected value of outcome\n",
    "    mu = epsilon + ads*trans(x_train['АДС']) + add*trans(x_train['АДД']) + adp*trans(x_train['АДП']) + zdin*trans(x_train['ЗДВдох']) + \\\n",
    "     zdout * trans(x_train['ЗДВыдох']) + gel * trans(x_train['ЖЕЛ']) + massa * trans(x_train['Масса тела']) + \\\n",
    "    akkom * trans(x_train['Аккомодация']) + sluh * trans(x_train['Острота слуха']) + balance * trans(x_train['Стат.балансировка']) + \\\n",
    "    ads_2*trans(x_train['АДС']*x_train['АДС']) + add_2*trans(x_train['АДД']*x_train['АДД']) + \\\n",
    "    adp_2*trans(x_train['АДП']*x_train['АДП']) + zdin_2*trans(x_train['ЗДВдох']*x_train['ЗДВдох']) + \\\n",
    "     zdout_2 * trans(x_train['ЗДВыдох']*x_train['ЗДВыдох']) + gel_2 * trans(x_train['ЖЕЛ']*x_train['ЖЕЛ']) + \\\n",
    "    massa_2 * trans(x_train['Масса тела']*x_train['Масса тела']) + \\\n",
    "    akkom_2 * trans(x_train['Аккомодация']*x_train['Аккомодация']) + \\\n",
    "    sluh * trans(x_train['Острота слуха']*x_train['Острота слуха']) + \\\n",
    "    balance * trans(x_train['Стат.балансировка']*x_train['Стат.балансировка'])\n",
    "        \n",
    "        \n",
    "\n",
    "    # Likelihood (sampling distribution) of observations\n",
    "    Y_obs = pm.Normal(\"Y_obs\", mu=mu, sigma=0.95, observed=trans(y_train))"
   ]
  },
  {
   "cell_type": "code",
   "execution_count": 81,
   "id": "e5ab4f77",
   "metadata": {},
   "outputs": [
    {
     "name": "stderr",
     "output_type": "stream",
     "text": [
      "C:\\Users\\Main\\AppData\\Roaming\\Python\\Python39\\site-packages\\pytensor\\tensor\\rewriting\\elemwise.py:1028: UserWarning: Loop fusion failed because the resulting node would exceed the kernel argument limit.\n",
      "  warn(\n",
      "Auto-assigning NUTS sampler...\n",
      "Initializing NUTS using jitter+adapt_diag...\n",
      "C:\\Users\\Main\\AppData\\Roaming\\Python\\Python39\\site-packages\\pytensor\\tensor\\rewriting\\elemwise.py:1028: UserWarning: Loop fusion failed because the resulting node would exceed the kernel argument limit.\n",
      "  warn(\n",
      "C:\\Users\\Main\\AppData\\Roaming\\Python\\Python39\\site-packages\\pytensor\\tensor\\rewriting\\elemwise.py:1028: UserWarning: Loop fusion failed because the resulting node would exceed the kernel argument limit.\n",
      "  warn(\n",
      "C:\\Users\\Main\\AppData\\Roaming\\Python\\Python39\\site-packages\\pytensor\\tensor\\rewriting\\elemwise.py:1028: UserWarning: Loop fusion failed because the resulting node would exceed the kernel argument limit.\n",
      "  warn(\n",
      "C:\\Users\\Main\\AppData\\Roaming\\Python\\Python39\\site-packages\\pytensor\\tensor\\rewriting\\elemwise.py:1028: UserWarning: Loop fusion failed because the resulting node would exceed the kernel argument limit.\n",
      "  warn(\n",
      "C:\\Users\\Main\\AppData\\Roaming\\Python\\Python39\\site-packages\\pytensor\\tensor\\rewriting\\elemwise.py:1028: UserWarning: Loop fusion failed because the resulting node would exceed the kernel argument limit.\n",
      "  warn(\n",
      "Multiprocess sampling (2 chains in 2 jobs)\n",
      "NUTS: [ads, add, adp, zdin, zdout, gel, massa, akkom, sluh, balance, ads_2, add_2, adp_2, zdin_2, zdout_2, gel_2, massa_2, akkom_2, sluh_2, balance_2, epsilon]\n"
     ]
    },
    {
     "data": {
      "text/html": [
       "\n",
       "<style>\n",
       "    /* Turns off some styling */\n",
       "    progress {\n",
       "        /* gets rid of default border in Firefox and Opera. */\n",
       "        border: none;\n",
       "        /* Needs to be in here for Safari polyfill so background images work as expected. */\n",
       "        background-size: auto;\n",
       "    }\n",
       "    progress:not([value]), progress:not([value])::-webkit-progress-bar {\n",
       "        background: repeating-linear-gradient(45deg, #7e7e7e, #7e7e7e 10px, #5c5c5c 10px, #5c5c5c 20px);\n",
       "    }\n",
       "    .progress-bar-interrupted, .progress-bar-interrupted::-webkit-progress-bar {\n",
       "        background: #F44336;\n",
       "    }\n",
       "</style>\n"
      ],
      "text/plain": [
       "<IPython.core.display.HTML object>"
      ]
     },
     "metadata": {},
     "output_type": "display_data"
    },
    {
     "data": {
      "text/html": [
       "\n",
       "    <div>\n",
       "      <progress value='3000' class='' max='3000' style='width:300px; height:20px; vertical-align: middle;'></progress>\n",
       "      100.00% [3000/3000 02:30&lt;00:00 Sampling 2 chains, 0 divergences]\n",
       "    </div>\n",
       "    "
      ],
      "text/plain": [
       "<IPython.core.display.HTML object>"
      ]
     },
     "metadata": {},
     "output_type": "display_data"
    },
    {
     "name": "stderr",
     "output_type": "stream",
     "text": [
      "Sampling 2 chains for 1_000 tune and 500 draw iterations (2_000 + 1_000 draws total) took 157 seconds.\n",
      "We recommend running at least 4 chains for robust computation of convergence diagnostics\n"
     ]
    }
   ],
   "source": [
    "with poly_model:\n",
    "    # draw 500 posterior samples\n",
    "    trace_p = pm.sample(500, return_inferencedata=False)"
   ]
  },
  {
   "cell_type": "code",
   "execution_count": 86,
   "id": "b2d11366",
   "metadata": {},
   "outputs": [],
   "source": [
    "column = ['ads', 'add', 'adp', 'zdin', 'zdout', 'gel', 'massa', 'akkom', 'sluh', 'balance', \n",
    "         'ads_2', 'add_2', 'adp_2', 'zdin_2', 'zdout_2', 'gel_2', 'massa_2', 'akkom_2', 'sluh_2', 'balance_2']"
   ]
  },
  {
   "cell_type": "code",
   "execution_count": 87,
   "id": "e2991799",
   "metadata": {},
   "outputs": [],
   "source": [
    "var_weights['intercept'] = trace_p['epsilon'].mean()\n",
    "for i, c in enumerate(column):\n",
    "      var_weights[c] = trace_p[c].mean()\n",
    "var_weights = pd.DataFrame(var_weights, index=[0])"
   ]
  },
  {
   "cell_type": "code",
   "execution_count": 88,
   "id": "62dc9bfc",
   "metadata": {},
   "outputs": [
    {
     "data": {
      "text/html": [
       "<div>\n",
       "<style scoped>\n",
       "    .dataframe tbody tr th:only-of-type {\n",
       "        vertical-align: middle;\n",
       "    }\n",
       "\n",
       "    .dataframe tbody tr th {\n",
       "        vertical-align: top;\n",
       "    }\n",
       "\n",
       "    .dataframe thead th {\n",
       "        text-align: right;\n",
       "    }\n",
       "</style>\n",
       "<table border=\"1\" class=\"dataframe\">\n",
       "  <thead>\n",
       "    <tr style=\"text-align: right;\">\n",
       "      <th></th>\n",
       "      <th>intercept</th>\n",
       "      <th>ads</th>\n",
       "      <th>add</th>\n",
       "      <th>adp</th>\n",
       "      <th>zdin</th>\n",
       "      <th>zdout</th>\n",
       "      <th>gel</th>\n",
       "      <th>massa</th>\n",
       "      <th>akkom</th>\n",
       "      <th>sluh</th>\n",
       "      <th>...</th>\n",
       "      <th>ads_2</th>\n",
       "      <th>add_2</th>\n",
       "      <th>adp_2</th>\n",
       "      <th>zdin_2</th>\n",
       "      <th>zdout_2</th>\n",
       "      <th>gel_2</th>\n",
       "      <th>massa_2</th>\n",
       "      <th>akkom_2</th>\n",
       "      <th>sluh_2</th>\n",
       "      <th>balance_2</th>\n",
       "    </tr>\n",
       "  </thead>\n",
       "  <tbody>\n",
       "    <tr>\n",
       "      <th>0</th>\n",
       "      <td>0.000926</td>\n",
       "      <td>0.080478</td>\n",
       "      <td>0.14357</td>\n",
       "      <td>0.059028</td>\n",
       "      <td>-0.211204</td>\n",
       "      <td>0.284155</td>\n",
       "      <td>-0.170097</td>\n",
       "      <td>-0.291489</td>\n",
       "      <td>-0.127335</td>\n",
       "      <td>0.122861</td>\n",
       "      <td>...</td>\n",
       "      <td>-0.220063</td>\n",
       "      <td>0.044921</td>\n",
       "      <td>0.157644</td>\n",
       "      <td>0.171059</td>\n",
       "      <td>-0.31218</td>\n",
       "      <td>0.02435</td>\n",
       "      <td>0.05554</td>\n",
       "      <td>0.105858</td>\n",
       "      <td>-0.201244</td>\n",
       "      <td>-0.211809</td>\n",
       "    </tr>\n",
       "  </tbody>\n",
       "</table>\n",
       "<p>1 rows × 21 columns</p>\n",
       "</div>"
      ],
      "text/plain": [
       "   intercept       ads      add       adp      zdin     zdout       gel  \\\n",
       "0   0.000926  0.080478  0.14357  0.059028 -0.211204  0.284155 -0.170097   \n",
       "\n",
       "      massa     akkom      sluh  ...     ads_2     add_2     adp_2    zdin_2  \\\n",
       "0 -0.291489 -0.127335  0.122861  ... -0.220063  0.044921  0.157644  0.171059   \n",
       "\n",
       "   zdout_2    gel_2  massa_2   akkom_2    sluh_2  balance_2  \n",
       "0 -0.31218  0.02435  0.05554  0.105858 -0.201244  -0.211809  \n",
       "\n",
       "[1 rows x 21 columns]"
      ]
     },
     "execution_count": 88,
     "metadata": {},
     "output_type": "execute_result"
    }
   ],
   "source": [
    "var_weights"
   ]
  },
  {
   "cell_type": "code",
   "execution_count": 94,
   "id": "6b864057",
   "metadata": {},
   "outputs": [],
   "source": [
    "y_pred_2 = var_weights['intercept'] + var_weights['ads']*trans(x_test['АДС']) + \\\n",
    "var_weights['add']*trans(x_test['АДД']) + var_weights['adp']*trans(x_test['АДП']) + \\\n",
    "var_weights['zdin']*trans(x_test['ЗДВдох']) + \\\n",
    "     var_weights['zdout'] * trans(x_test['ЗДВыдох']) + \\\n",
    "var_weights['gel'] * trans(x_test['ЖЕЛ']) + var_weights['massa'] * trans(x_test['Масса тела']) + \\\n",
    "    var_weights['akkom'] * trans(x_test['Аккомодация']) + \\\n",
    "var_weights['sluh'] * trans(x_test['Острота слуха']) + \\\n",
    "var_weights['balance'] * trans(x_test['Стат.балансировка']) + \\\n",
    "    var_weights['ads_2']*trans(x_test['АДС']*x_test['АДС']) + \\\n",
    "var_weights['add_2']*trans(x_test['АДД']*x_test['АДД']) + \\\n",
    "    var_weights['adp_2']*trans(x_test['АДП']*x_test['АДП']) + \\\n",
    "var_weights['zdin_2']*trans(x_test['ЗДВдох']*x_test['ЗДВдох']) + \\\n",
    "     var_weights['zdout_2'] * trans(x_test['ЗДВыдох']*x_test['ЗДВыдох']) + \\\n",
    "var_weights['gel_2'] * trans(x_test['ЖЕЛ']*x_test['ЖЕЛ']) + \\\n",
    "    var_weights['massa_2'] * trans(x_test['Масса тела']*x_test['Масса тела']) + \\\n",
    "    var_weights['akkom_2'] * trans(x_test['Аккомодация']*x_test['Аккомодация']) + \\\n",
    "    var_weights['sluh'] * trans(x_test['Острота слуха']*x_test['Острота слуха']) + \\\n",
    "    var_weights['balance'] * trans(x_test['Стат.балансировка']*x_test['Стат.балансировка'])\n",
    "        "
   ]
  },
  {
   "cell_type": "code",
   "execution_count": 96,
   "id": "18b7976e",
   "metadata": {},
   "outputs": [
    {
     "data": {
      "text/plain": [
       "0    -0.359748\n",
       "1          NaN\n",
       "2          NaN\n",
       "3          NaN\n",
       "4          NaN\n",
       "5          NaN\n",
       "6          NaN\n",
       "7          NaN\n",
       "8          NaN\n",
       "9          NaN\n",
       "10         NaN\n",
       "11         NaN\n",
       "12         NaN\n",
       "13         NaN\n",
       "14         NaN\n",
       "15         NaN\n",
       "16         NaN\n",
       "17         NaN\n",
       "18         NaN\n",
       "19         NaN\n",
       "20         NaN\n",
       "21         NaN\n",
       "22         NaN\n",
       "23         NaN\n",
       "24         NaN\n",
       "25         NaN\n",
       "26         NaN\n",
       "27         NaN\n",
       "28         NaN\n",
       "29         NaN\n",
       "30         NaN\n",
       "31         NaN\n",
       "32         NaN\n",
       "33         NaN\n",
       "34         NaN\n",
       "35         NaN\n",
       "36         NaN\n",
       "37         NaN\n",
       "38         NaN\n",
       "39         NaN\n",
       "40         NaN\n",
       "41         NaN\n",
       "42         NaN\n",
       "43         NaN\n",
       "44         NaN\n",
       "45         NaN\n",
       "46         NaN\n",
       "dtype: float64"
      ]
     },
     "execution_count": 96,
     "metadata": {},
     "output_type": "execute_result"
    }
   ],
   "source": [
    "y_pred_2"
   ]
  },
  {
   "cell_type": "code",
   "execution_count": 89,
   "id": "4cb11c97",
   "metadata": {},
   "outputs": [],
   "source": [
    "bayes_test_set_scaled_2 = np.append(np.ones((len(x_test), 1)), x_test_transformed, axis=1)\n",
    "bayes_test_set_scaled_2 = np.append(bayes_test_set_scaled_2, x_test_transformed*x_test_transformed, axis=1)\n",
    "bayes_test_set_prediction_scaled_2 = np.dot(bayes_test_set_scaled_2, np.array(var_weights).T)\n",
    "bayes_test_set_prediction_2 = scaller.inverse_transform(bayes_test_set_prediction_scaled_2)"
   ]
  },
  {
   "cell_type": "code",
   "execution_count": 92,
   "id": "6facd650",
   "metadata": {},
   "outputs": [
    {
     "data": {
      "text/plain": [
       "(47, 21)"
      ]
     },
     "execution_count": 92,
     "metadata": {},
     "output_type": "execute_result"
    }
   ],
   "source": [
    "bayes_test_set_scaled_2.shape"
   ]
  },
  {
   "cell_type": "code",
   "execution_count": 90,
   "id": "2275b15d",
   "metadata": {},
   "outputs": [
    {
     "data": {
      "text/plain": [
       "10.07691494134328"
      ]
     },
     "execution_count": 90,
     "metadata": {},
     "output_type": "execute_result"
    }
   ],
   "source": [
    "mean_absolute_error(y_test, bayes_test_set_prediction_2)"
   ]
  },
  {
   "cell_type": "code",
   "execution_count": null,
   "id": "bbea2a50",
   "metadata": {},
   "outputs": [],
   "source": []
  }
 ],
 "metadata": {
  "kernelspec": {
   "display_name": "Python 3 (ipykernel)",
   "language": "python",
   "name": "python3"
  },
  "language_info": {
   "codemirror_mode": {
    "name": "ipython",
    "version": 3
   },
   "file_extension": ".py",
   "mimetype": "text/x-python",
   "name": "python",
   "nbconvert_exporter": "python",
   "pygments_lexer": "ipython3",
   "version": "3.9.7"
  },
  "toc": {
   "base_numbering": 1,
   "nav_menu": {},
   "number_sections": true,
   "sideBar": true,
   "skip_h1_title": false,
   "title_cell": "Table of Contents",
   "title_sidebar": "Contents",
   "toc_cell": false,
   "toc_position": {},
   "toc_section_display": true,
   "toc_window_display": false
  }
 },
 "nbformat": 4,
 "nbformat_minor": 5
}
