{
 "cells": [
  {
   "cell_type": "code",
   "execution_count": 1,
   "id": "7c3894c2",
   "metadata": {},
   "outputs": [
    {
     "name": "stderr",
     "output_type": "stream",
     "text": [
      "C:\\Users\\Main\\anaconda3\\lib\\site-packages\\numpy\\_distributor_init.py:30: UserWarning: loaded more than 1 DLL from .libs:\n",
      "C:\\Users\\Main\\anaconda3\\lib\\site-packages\\numpy\\.libs\\libopenblas.EL2C6PLE4ZYW3ECEVIV3OXXGRN2NRFM2.gfortran-win_amd64.dll\n",
      "C:\\Users\\Main\\anaconda3\\lib\\site-packages\\numpy\\.libs\\libopenblas64__v0.3.23-246-g3d31191b-gcc_10_3_0.dll\n",
      "  warnings.warn(\"loaded more than 1 DLL from .libs:\"\n"
     ]
    }
   ],
   "source": [
    "import pandas as pd\n",
    "import numpy as np\n",
    "import matplotlib.pyplot as plt\n",
    "import seaborn as sns\n",
    "from sklearn.linear_model import LinearRegression, SGDRegressor, BayesianRidge, ARDRegression, Ridge, Lasso, LassoLars, TweedieRegressor, PassiveAggressiveRegressor\n",
    "from sklearn.svm import SVR\n",
    "from sklearn.preprocessing import scale\n",
    "from sklearn.model_selection import train_test_split\n",
    "from sklearn.metrics import mean_squared_error, r2_score, mean_absolute_error\n",
    "import xgboost as xgb\n",
    "from sklearn import ensemble\n"
   ]
  },
  {
   "cell_type": "code",
   "execution_count": 2,
   "id": "4f7548e7",
   "metadata": {},
   "outputs": [],
   "source": [
    "def RF(x, y):\n",
    "    x_train, x_test, y_train, y_test = train_test_split(x,y, test_size = 0.2, random_state = 1)\n",
    "    scoring = []\n",
    "    n_trees = [1] + [i for i in range(5, 300, 5)]\n",
    "    for n_tree in n_trees:\n",
    "        estimator = ensemble.RandomForestRegressor(n_estimators = n_tree, min_samples_split=5, random_state=1)\n",
    "        estimator.fit(x_train, y_train)\n",
    "        score = r2_score(y_test, estimator.predict(x_test)) \n",
    "        scoring.append(score)\n",
    "    scoring = np.asmatrix(scoring)\n",
    "    return scoring, n_trees"
   ]
  },
  {
   "cell_type": "code",
   "execution_count": 3,
   "id": "48cbf9a9",
   "metadata": {},
   "outputs": [],
   "source": [
    "def XGB(x, y):\n",
    "    x_train, x_test, y_train, y_test = train_test_split(x,y, test_size = 0.2, random_state = 1)\n",
    "    xgb_scoring = []\n",
    "    n_trees = [1] + [i for i in range(5, 300, 5)]\n",
    "    for n_tree in n_trees:\n",
    "        estimator = xgb.XGBRegressor(learning_rate=0.1, max_depth=5, n_estimators=n_tree, min_child_weight=4)\n",
    "        estimator.fit(x_train, y_train)\n",
    "        score = r2_score(y_test, estimator.predict(x_test)) \n",
    "        xgb_scoring.append(score)\n",
    "    xgb_scoring = np.asmatrix(xgb_scoring)\n",
    "    return xgb_scoring, n_trees"
   ]
  },
  {
   "cell_type": "code",
   "execution_count": 2,
   "id": "29134181",
   "metadata": {},
   "outputs": [],
   "source": [
    "df = pd.read_excel('../data_preparing/cluster_m_amb.xlsx')"
   ]
  },
  {
   "cell_type": "code",
   "execution_count": 3,
   "id": "e09c8c94",
   "metadata": {},
   "outputs": [
    {
     "data": {
      "text/html": [
       "<div>\n",
       "<style scoped>\n",
       "    .dataframe tbody tr th:only-of-type {\n",
       "        vertical-align: middle;\n",
       "    }\n",
       "\n",
       "    .dataframe tbody tr th {\n",
       "        vertical-align: top;\n",
       "    }\n",
       "\n",
       "    .dataframe thead th {\n",
       "        text-align: right;\n",
       "    }\n",
       "</style>\n",
       "<table border=\"1\" class=\"dataframe\">\n",
       "  <thead>\n",
       "    <tr style=\"text-align: right;\">\n",
       "      <th></th>\n",
       "      <th>Unnamed: 0</th>\n",
       "      <th>состояние</th>\n",
       "      <th>пол</th>\n",
       "      <th>возраст</th>\n",
       "      <th>АДС</th>\n",
       "      <th>АДД</th>\n",
       "      <th>АДП</th>\n",
       "      <th>ЗДВдох</th>\n",
       "      <th>ЗДВыдох</th>\n",
       "      <th>ЖЕЛ</th>\n",
       "      <th>Масса тела</th>\n",
       "      <th>Аккомодация</th>\n",
       "      <th>Острота слуха</th>\n",
       "      <th>Стат.балансировка</th>\n",
       "      <th>id_pat</th>\n",
       "      <th>cluster</th>\n",
       "    </tr>\n",
       "  </thead>\n",
       "  <tbody>\n",
       "    <tr>\n",
       "      <th>0</th>\n",
       "      <td>2</td>\n",
       "      <td>2</td>\n",
       "      <td>1</td>\n",
       "      <td>50</td>\n",
       "      <td>145.000000</td>\n",
       "      <td>82.000000</td>\n",
       "      <td>63.000000</td>\n",
       "      <td>33.000000</td>\n",
       "      <td>26.43351</td>\n",
       "      <td>3428.609744</td>\n",
       "      <td>76.620655</td>\n",
       "      <td>4.953854</td>\n",
       "      <td>30.184163</td>\n",
       "      <td>110.000000</td>\n",
       "      <td>2</td>\n",
       "      <td>0</td>\n",
       "    </tr>\n",
       "    <tr>\n",
       "      <th>1</th>\n",
       "      <td>8</td>\n",
       "      <td>2</td>\n",
       "      <td>1</td>\n",
       "      <td>46</td>\n",
       "      <td>122.000000</td>\n",
       "      <td>80.000000</td>\n",
       "      <td>42.000000</td>\n",
       "      <td>42.000000</td>\n",
       "      <td>25.00000</td>\n",
       "      <td>4330.000000</td>\n",
       "      <td>102.000000</td>\n",
       "      <td>3.570000</td>\n",
       "      <td>20.000000</td>\n",
       "      <td>20.000000</td>\n",
       "      <td>8</td>\n",
       "      <td>0</td>\n",
       "    </tr>\n",
       "    <tr>\n",
       "      <th>2</th>\n",
       "      <td>30</td>\n",
       "      <td>2</td>\n",
       "      <td>1</td>\n",
       "      <td>39</td>\n",
       "      <td>147.000000</td>\n",
       "      <td>88.000000</td>\n",
       "      <td>59.000000</td>\n",
       "      <td>63.000000</td>\n",
       "      <td>33.00000</td>\n",
       "      <td>3370.000000</td>\n",
       "      <td>87.000000</td>\n",
       "      <td>9.090000</td>\n",
       "      <td>10.000000</td>\n",
       "      <td>38.000000</td>\n",
       "      <td>30</td>\n",
       "      <td>0</td>\n",
       "    </tr>\n",
       "    <tr>\n",
       "      <th>3</th>\n",
       "      <td>38</td>\n",
       "      <td>2</td>\n",
       "      <td>1</td>\n",
       "      <td>50</td>\n",
       "      <td>128.552097</td>\n",
       "      <td>79.611075</td>\n",
       "      <td>49.203473</td>\n",
       "      <td>44.444323</td>\n",
       "      <td>26.43351</td>\n",
       "      <td>3428.609744</td>\n",
       "      <td>76.620655</td>\n",
       "      <td>4.953854</td>\n",
       "      <td>30.184163</td>\n",
       "      <td>16.968783</td>\n",
       "      <td>38</td>\n",
       "      <td>0</td>\n",
       "    </tr>\n",
       "    <tr>\n",
       "      <th>4</th>\n",
       "      <td>44</td>\n",
       "      <td>2</td>\n",
       "      <td>1</td>\n",
       "      <td>39</td>\n",
       "      <td>108.000000</td>\n",
       "      <td>69.000000</td>\n",
       "      <td>39.000000</td>\n",
       "      <td>54.000000</td>\n",
       "      <td>25.00000</td>\n",
       "      <td>4200.000000</td>\n",
       "      <td>77.000000</td>\n",
       "      <td>4.000000</td>\n",
       "      <td>20.000000</td>\n",
       "      <td>5.000000</td>\n",
       "      <td>44</td>\n",
       "      <td>0</td>\n",
       "    </tr>\n",
       "  </tbody>\n",
       "</table>\n",
       "</div>"
      ],
      "text/plain": [
       "   Unnamed: 0  состояние  пол  возраст         АДС        АДД        АДП  \\\n",
       "0           2          2    1       50  145.000000  82.000000  63.000000   \n",
       "1           8          2    1       46  122.000000  80.000000  42.000000   \n",
       "2          30          2    1       39  147.000000  88.000000  59.000000   \n",
       "3          38          2    1       50  128.552097  79.611075  49.203473   \n",
       "4          44          2    1       39  108.000000  69.000000  39.000000   \n",
       "\n",
       "      ЗДВдох   ЗДВыдох          ЖЕЛ  Масса тела  Аккомодация  Острота слуха  \\\n",
       "0  33.000000  26.43351  3428.609744   76.620655     4.953854      30.184163   \n",
       "1  42.000000  25.00000  4330.000000  102.000000     3.570000      20.000000   \n",
       "2  63.000000  33.00000  3370.000000   87.000000     9.090000      10.000000   \n",
       "3  44.444323  26.43351  3428.609744   76.620655     4.953854      30.184163   \n",
       "4  54.000000  25.00000  4200.000000   77.000000     4.000000      20.000000   \n",
       "\n",
       "   Стат.балансировка  id_pat  cluster  \n",
       "0         110.000000       2        0  \n",
       "1          20.000000       8        0  \n",
       "2          38.000000      30        0  \n",
       "3          16.968783      38        0  \n",
       "4           5.000000      44        0  "
      ]
     },
     "execution_count": 3,
     "metadata": {},
     "output_type": "execute_result"
    }
   ],
   "source": [
    "df.head()"
   ]
  },
  {
   "cell_type": "code",
   "execution_count": 4,
   "id": "b1fcbebf",
   "metadata": {},
   "outputs": [
    {
     "data": {
      "text/plain": [
       "Index(['Unnamed: 0', 'состояние', 'пол', 'возраст', 'АДС', 'АДД', 'АДП',\n",
       "       'ЗДВдох', 'ЗДВыдох', 'ЖЕЛ', 'Масса тела', 'Аккомодация',\n",
       "       'Острота слуха', 'Стат.балансировка', 'id_pat', 'cluster'],\n",
       "      dtype='object')"
      ]
     },
     "execution_count": 4,
     "metadata": {},
     "output_type": "execute_result"
    }
   ],
   "source": [
    "df.columns"
   ]
  },
  {
   "cell_type": "code",
   "execution_count": 5,
   "id": "b390cf66",
   "metadata": {},
   "outputs": [],
   "source": [
    "df.drop(['Unnamed: 0'], axis = 1, inplace = True)"
   ]
  },
  {
   "cell_type": "code",
   "execution_count": 6,
   "id": "a0d91e30",
   "metadata": {},
   "outputs": [
    {
     "data": {
      "text/plain": [
       "(344, 15)"
      ]
     },
     "execution_count": 6,
     "metadata": {},
     "output_type": "execute_result"
    }
   ],
   "source": [
    "df.shape"
   ]
  },
  {
   "cell_type": "code",
   "execution_count": 7,
   "id": "a1ff5593",
   "metadata": {},
   "outputs": [],
   "source": [
    "x_40 = df[df['возраст'] >= 40][['АДС', 'АДД', 'АДП',\n",
    "       'ЗДВдох', 'ЗДВыдох', 'ЖЕЛ', 'Масса тела', 'Аккомодация',\n",
    "       'Острота слуха', 'Стат.балансировка']]\n",
    "y_40 = df[df['возраст'] >=40]['возраст']"
   ]
  },
  {
   "cell_type": "code",
   "execution_count": 8,
   "id": "905e043a",
   "metadata": {},
   "outputs": [],
   "source": [
    "x = df.drop(['возраст', 'состояние', 'пол', 'id_pat', 'cluster'], axis = 1)\n",
    "y = df['возраст']"
   ]
  },
  {
   "cell_type": "code",
   "execution_count": 9,
   "id": "112f66dd",
   "metadata": {},
   "outputs": [],
   "source": [
    "RF_scoring, RF_trees = RF(x, y)"
   ]
  },
  {
   "cell_type": "code",
   "execution_count": 8,
   "id": "09ddeed6",
   "metadata": {},
   "outputs": [],
   "source": [
    "RF_scoring, RF_trees = RF(x_40, y_40)"
   ]
  },
  {
   "cell_type": "code",
   "execution_count": 9,
   "id": "a9df25cf",
   "metadata": {},
   "outputs": [
    {
     "data": {
      "text/plain": [
       "matrix([[-0.0812054 ,  0.41762146,  0.38806343,  0.39555055,  0.38803587,\n",
       "          0.38647626,  0.38215925,  0.37363898,  0.37981023,  0.37411718,\n",
       "          0.37994734,  0.37822855,  0.38096765,  0.37495629,  0.38507549,\n",
       "          0.38608304,  0.38520222,  0.38597318,  0.38527281,  0.38388311,\n",
       "          0.38958311,  0.39426379,  0.39640972,  0.39400699,  0.39475963,\n",
       "          0.3971007 ,  0.39543557,  0.3949116 ,  0.39320344,  0.39197047,\n",
       "          0.39245789,  0.39516199,  0.3922876 ,  0.39212921,  0.39120867,\n",
       "          0.39084264,  0.39164882,  0.39204034,  0.39446619,  0.39540515,\n",
       "          0.39433482,  0.39527462,  0.39751279,  0.39922489,  0.39731021,\n",
       "          0.39804707,  0.3973636 ,  0.3944974 ,  0.39483811,  0.39477577,\n",
       "          0.39688899,  0.39598678,  0.39561692,  0.39674646,  0.39698602,\n",
       "          0.3961113 ,  0.3948184 ,  0.3940878 ,  0.39418275,  0.39321496]])"
      ]
     },
     "execution_count": 9,
     "metadata": {},
     "output_type": "execute_result"
    }
   ],
   "source": [
    "RF_scoring"
   ]
  },
  {
   "cell_type": "code",
   "execution_count": 10,
   "id": "7d0e0b0e",
   "metadata": {},
   "outputs": [],
   "source": [
    "df_RF = pd.DataFrame(np.vstack([np.array(RF_trees), np.array(RF_scoring)]))"
   ]
  },
  {
   "cell_type": "code",
   "execution_count": 11,
   "id": "af21b3ce",
   "metadata": {},
   "outputs": [],
   "source": [
    "df_RF_T = df_RF.T"
   ]
  },
  {
   "cell_type": "code",
   "execution_count": 12,
   "id": "b72a6e9a",
   "metadata": {},
   "outputs": [],
   "source": [
    "max_df = np.max(df_RF.iloc[1,:])"
   ]
  },
  {
   "cell_type": "code",
   "execution_count": 13,
   "id": "da96f18c",
   "metadata": {},
   "outputs": [],
   "source": [
    "df_max = df_RF_T[df_RF_T[1] == max_df ]"
   ]
  },
  {
   "cell_type": "code",
   "execution_count": 14,
   "id": "afabcefc",
   "metadata": {},
   "outputs": [
    {
     "data": {
      "text/html": [
       "<div>\n",
       "<style scoped>\n",
       "    .dataframe tbody tr th:only-of-type {\n",
       "        vertical-align: middle;\n",
       "    }\n",
       "\n",
       "    .dataframe tbody tr th {\n",
       "        vertical-align: top;\n",
       "    }\n",
       "\n",
       "    .dataframe thead th {\n",
       "        text-align: right;\n",
       "    }\n",
       "</style>\n",
       "<table border=\"1\" class=\"dataframe\">\n",
       "  <thead>\n",
       "    <tr style=\"text-align: right;\">\n",
       "      <th></th>\n",
       "      <th>0</th>\n",
       "      <th>1</th>\n",
       "    </tr>\n",
       "  </thead>\n",
       "  <tbody>\n",
       "    <tr>\n",
       "      <th>1</th>\n",
       "      <td>5.0</td>\n",
       "      <td>0.417621</td>\n",
       "    </tr>\n",
       "  </tbody>\n",
       "</table>\n",
       "</div>"
      ],
      "text/plain": [
       "     0         1\n",
       "1  5.0  0.417621"
      ]
     },
     "execution_count": 14,
     "metadata": {},
     "output_type": "execute_result"
    }
   ],
   "source": [
    "df_max"
   ]
  },
  {
   "cell_type": "code",
   "execution_count": 16,
   "id": "ff83e39a",
   "metadata": {},
   "outputs": [
    {
     "name": "stdout",
     "output_type": "stream",
     "text": [
      "10.214919938598399\n"
     ]
    }
   ],
   "source": [
    "x_train, x_test, y_train, y_test = train_test_split(x,y, test_size = 0.2, random_state = 1)\n",
    "estimator = ensemble.RandomForestRegressor(n_estimators = 15, min_samples_split=5, random_state=1)\n",
    "estimator.fit(x_train, y_train)\n",
    "score = mean_absolute_error(y_test, estimator.predict(x_test)) \n",
    "print(score)"
   ]
  },
  {
   "cell_type": "code",
   "execution_count": 15,
   "id": "be602e53",
   "metadata": {},
   "outputs": [
    {
     "name": "stdout",
     "output_type": "stream",
     "text": [
      "5.804028097403037\n"
     ]
    }
   ],
   "source": [
    "x_train, x_test, y_train, y_test = train_test_split(x_40,y_40, test_size = 0.2, random_state = 1)\n",
    "estimator = ensemble.RandomForestRegressor(n_estimators = 5, min_samples_split=5, random_state=1)\n",
    "estimator.fit(x_train, y_train)\n",
    "score = mean_absolute_error(y_test, estimator.predict(x_test)) \n",
    "print(score)"
   ]
  },
  {
   "cell_type": "code",
   "execution_count": 26,
   "id": "32a9fd33",
   "metadata": {},
   "outputs": [
    {
     "name": "stdout",
     "output_type": "stream",
     "text": [
      "4.491704800261281\n"
     ]
    }
   ],
   "source": [
    "x_train, x_test, y_train, y_test = train_test_split(x_40,y_40, test_size = 0.2, random_state = 1)\n",
    "estimator = ensemble.RandomForestRegressor(n_estimators = 5, min_samples_split=5, random_state=1)\n",
    "estimator.fit(x_train, y_train)\n",
    "score = mean_absolute_error(y_train, estimator.predict(x_train)) \n",
    "print(score)"
   ]
  },
  {
   "cell_type": "code",
   "execution_count": 21,
   "id": "2ae44608",
   "metadata": {},
   "outputs": [
    {
     "data": {
      "text/plain": [
       "array([0.02167103, 0.04340723, 0.07624889, 0.09250442, 0.03707031,\n",
       "       0.08468913, 0.12290556, 0.06843217, 0.20888456, 0.24418671])"
      ]
     },
     "execution_count": 21,
     "metadata": {},
     "output_type": "execute_result"
    }
   ],
   "source": [
    "estimator.feature_importances_"
   ]
  },
  {
   "cell_type": "code",
   "execution_count": 22,
   "id": "8a9a1cae",
   "metadata": {},
   "outputs": [
    {
     "data": {
      "text/plain": [
       "array(['АДС', 'АДД', 'АДП', 'ЗДВдох', 'ЗДВыдох', 'ЖЕЛ', 'Масса тела',\n",
       "       'Аккомодация', 'Острота слуха', 'Стат.балансировка'], dtype=object)"
      ]
     },
     "execution_count": 22,
     "metadata": {},
     "output_type": "execute_result"
    }
   ],
   "source": [
    "estimator.feature_names_in_"
   ]
  },
  {
   "cell_type": "code",
   "execution_count": 23,
   "id": "358c9628",
   "metadata": {},
   "outputs": [],
   "source": [
    "import pickle"
   ]
  },
  {
   "cell_type": "code",
   "execution_count": 24,
   "id": "7a32b412",
   "metadata": {},
   "outputs": [],
   "source": [
    "model_fpath = 'rf_man_40.pkl'"
   ]
  },
  {
   "cell_type": "code",
   "execution_count": 25,
   "id": "33ae60cd",
   "metadata": {},
   "outputs": [],
   "source": [
    "with open(model_fpath, 'wb') as buff:\n",
    "    pickle.dump(estimator, buff)"
   ]
  },
  {
   "cell_type": "code",
   "execution_count": 16,
   "id": "baa97a45",
   "metadata": {},
   "outputs": [],
   "source": [
    "from sklearn.svm import LinearSVR\n",
    "from sklearn.ensemble import StackingRegressor\n"
   ]
  },
  {
   "cell_type": "code",
   "execution_count": 17,
   "id": "7c20771b",
   "metadata": {},
   "outputs": [],
   "source": [
    "estimators = [\n",
    "    (\"Random_Forest\", ensemble.RandomForestRegressor(n_estimators = 70, min_samples_split=5, random_state=1)),\n",
    "    (\"Xgboost\", xgb.XGBRegressor(learning_rate=0.1, max_depth=5, n_estimators=295, min_child_weight=4)),\n",
    "    (\"SVM\", LinearSVR()),\n",
    "    \n",
    "]\n",
    "\n",
    "# построим классификатор используя стекинг и наш список классификаторов\n",
    "stacking_regressor = StackingRegressor(\n",
    "    estimators=estimators,\n",
    "    final_estimator=Ridge(),\n",
    "    n_jobs=-1,\n",
    "    verbose=True,\n",
    ")"
   ]
  },
  {
   "cell_type": "code",
   "execution_count": 18,
   "id": "a9fbdf7b",
   "metadata": {},
   "outputs": [
    {
     "data": {
      "text/html": [
       "<style>#sk-container-id-1 {color: black;background-color: white;}#sk-container-id-1 pre{padding: 0;}#sk-container-id-1 div.sk-toggleable {background-color: white;}#sk-container-id-1 label.sk-toggleable__label {cursor: pointer;display: block;width: 100%;margin-bottom: 0;padding: 0.3em;box-sizing: border-box;text-align: center;}#sk-container-id-1 label.sk-toggleable__label-arrow:before {content: \"▸\";float: left;margin-right: 0.25em;color: #696969;}#sk-container-id-1 label.sk-toggleable__label-arrow:hover:before {color: black;}#sk-container-id-1 div.sk-estimator:hover label.sk-toggleable__label-arrow:before {color: black;}#sk-container-id-1 div.sk-toggleable__content {max-height: 0;max-width: 0;overflow: hidden;text-align: left;background-color: #f0f8ff;}#sk-container-id-1 div.sk-toggleable__content pre {margin: 0.2em;color: black;border-radius: 0.25em;background-color: #f0f8ff;}#sk-container-id-1 input.sk-toggleable__control:checked~div.sk-toggleable__content {max-height: 200px;max-width: 100%;overflow: auto;}#sk-container-id-1 input.sk-toggleable__control:checked~label.sk-toggleable__label-arrow:before {content: \"▾\";}#sk-container-id-1 div.sk-estimator input.sk-toggleable__control:checked~label.sk-toggleable__label {background-color: #d4ebff;}#sk-container-id-1 div.sk-label input.sk-toggleable__control:checked~label.sk-toggleable__label {background-color: #d4ebff;}#sk-container-id-1 input.sk-hidden--visually {border: 0;clip: rect(1px 1px 1px 1px);clip: rect(1px, 1px, 1px, 1px);height: 1px;margin: -1px;overflow: hidden;padding: 0;position: absolute;width: 1px;}#sk-container-id-1 div.sk-estimator {font-family: monospace;background-color: #f0f8ff;border: 1px dotted black;border-radius: 0.25em;box-sizing: border-box;margin-bottom: 0.5em;}#sk-container-id-1 div.sk-estimator:hover {background-color: #d4ebff;}#sk-container-id-1 div.sk-parallel-item::after {content: \"\";width: 100%;border-bottom: 1px solid gray;flex-grow: 1;}#sk-container-id-1 div.sk-label:hover label.sk-toggleable__label {background-color: #d4ebff;}#sk-container-id-1 div.sk-serial::before {content: \"\";position: absolute;border-left: 1px solid gray;box-sizing: border-box;top: 0;bottom: 0;left: 50%;z-index: 0;}#sk-container-id-1 div.sk-serial {display: flex;flex-direction: column;align-items: center;background-color: white;padding-right: 0.2em;padding-left: 0.2em;position: relative;}#sk-container-id-1 div.sk-item {position: relative;z-index: 1;}#sk-container-id-1 div.sk-parallel {display: flex;align-items: stretch;justify-content: center;background-color: white;position: relative;}#sk-container-id-1 div.sk-item::before, #sk-container-id-1 div.sk-parallel-item::before {content: \"\";position: absolute;border-left: 1px solid gray;box-sizing: border-box;top: 0;bottom: 0;left: 50%;z-index: -1;}#sk-container-id-1 div.sk-parallel-item {display: flex;flex-direction: column;z-index: 1;position: relative;background-color: white;}#sk-container-id-1 div.sk-parallel-item:first-child::after {align-self: flex-end;width: 50%;}#sk-container-id-1 div.sk-parallel-item:last-child::after {align-self: flex-start;width: 50%;}#sk-container-id-1 div.sk-parallel-item:only-child::after {width: 0;}#sk-container-id-1 div.sk-dashed-wrapped {border: 1px dashed gray;margin: 0 0.4em 0.5em 0.4em;box-sizing: border-box;padding-bottom: 0.4em;background-color: white;}#sk-container-id-1 div.sk-label label {font-family: monospace;font-weight: bold;display: inline-block;line-height: 1.2em;}#sk-container-id-1 div.sk-label-container {text-align: center;}#sk-container-id-1 div.sk-container {/* jupyter's `normalize.less` sets `[hidden] { display: none; }` but bootstrap.min.css set `[hidden] { display: none !important; }` so we also need the `!important` here to be able to override the default hidden behavior on the sphinx rendered scikit-learn.org. See: https://github.com/scikit-learn/scikit-learn/issues/21755 */display: inline-block !important;position: relative;}#sk-container-id-1 div.sk-text-repr-fallback {display: none;}</style><div id=\"sk-container-id-1\" class=\"sk-top-container\"><div class=\"sk-text-repr-fallback\"><pre>StackingRegressor(estimators=[(&#x27;Random_Forest&#x27;,\n",
       "                               RandomForestRegressor(min_samples_split=5,\n",
       "                                                     n_estimators=70,\n",
       "                                                     random_state=1)),\n",
       "                              (&#x27;Xgboost&#x27;,\n",
       "                               XGBRegressor(base_score=None, booster=None,\n",
       "                                            callbacks=None,\n",
       "                                            colsample_bylevel=None,\n",
       "                                            colsample_bynode=None,\n",
       "                                            colsample_bytree=None,\n",
       "                                            early_stopping_rounds=None,\n",
       "                                            enable_categorical=False,\n",
       "                                            eval_metric=None, gamma=None,\n",
       "                                            gpu_id=None, g...\n",
       "                                            interaction_constraints=None,\n",
       "                                            learning_rate=0.1, max_bin=None,\n",
       "                                            max_cat_to_onehot=None,\n",
       "                                            max_delta_step=None, max_depth=5,\n",
       "                                            max_leaves=None, min_child_weight=4,\n",
       "                                            missing=nan,\n",
       "                                            monotone_constraints=None,\n",
       "                                            n_estimators=295, n_jobs=None,\n",
       "                                            num_parallel_tree=None,\n",
       "                                            predictor=None, random_state=None,\n",
       "                                            reg_alpha=None, reg_lambda=None, ...)),\n",
       "                              (&#x27;SVM&#x27;, LinearSVR())],\n",
       "                  final_estimator=Ridge(), n_jobs=-1, verbose=True)</pre><b>In a Jupyter environment, please rerun this cell to show the HTML representation or trust the notebook. <br />On GitHub, the HTML representation is unable to render, please try loading this page with nbviewer.org.</b></div><div class=\"sk-container\" hidden><div class=\"sk-item sk-dashed-wrapped\"><div class=\"sk-label-container\"><div class=\"sk-label sk-toggleable\"><input class=\"sk-toggleable__control sk-hidden--visually\" id=\"sk-estimator-id-1\" type=\"checkbox\" ><label for=\"sk-estimator-id-1\" class=\"sk-toggleable__label sk-toggleable__label-arrow\">StackingRegressor</label><div class=\"sk-toggleable__content\"><pre>StackingRegressor(estimators=[(&#x27;Random_Forest&#x27;,\n",
       "                               RandomForestRegressor(min_samples_split=5,\n",
       "                                                     n_estimators=70,\n",
       "                                                     random_state=1)),\n",
       "                              (&#x27;Xgboost&#x27;,\n",
       "                               XGBRegressor(base_score=None, booster=None,\n",
       "                                            callbacks=None,\n",
       "                                            colsample_bylevel=None,\n",
       "                                            colsample_bynode=None,\n",
       "                                            colsample_bytree=None,\n",
       "                                            early_stopping_rounds=None,\n",
       "                                            enable_categorical=False,\n",
       "                                            eval_metric=None, gamma=None,\n",
       "                                            gpu_id=None, g...\n",
       "                                            interaction_constraints=None,\n",
       "                                            learning_rate=0.1, max_bin=None,\n",
       "                                            max_cat_to_onehot=None,\n",
       "                                            max_delta_step=None, max_depth=5,\n",
       "                                            max_leaves=None, min_child_weight=4,\n",
       "                                            missing=nan,\n",
       "                                            monotone_constraints=None,\n",
       "                                            n_estimators=295, n_jobs=None,\n",
       "                                            num_parallel_tree=None,\n",
       "                                            predictor=None, random_state=None,\n",
       "                                            reg_alpha=None, reg_lambda=None, ...)),\n",
       "                              (&#x27;SVM&#x27;, LinearSVR())],\n",
       "                  final_estimator=Ridge(), n_jobs=-1, verbose=True)</pre></div></div></div><div class=\"sk-serial\"><div class=\"sk-item\"><div class=\"sk-parallel\"><div class=\"sk-parallel-item\"><div class=\"sk-item\"><div class=\"sk-label-container\"><div class=\"sk-label sk-toggleable\"><label>Random_Forest</label></div></div><div class=\"sk-serial\"><div class=\"sk-item\"><div class=\"sk-estimator sk-toggleable\"><input class=\"sk-toggleable__control sk-hidden--visually\" id=\"sk-estimator-id-2\" type=\"checkbox\" ><label for=\"sk-estimator-id-2\" class=\"sk-toggleable__label sk-toggleable__label-arrow\">RandomForestRegressor</label><div class=\"sk-toggleable__content\"><pre>RandomForestRegressor(min_samples_split=5, n_estimators=70, random_state=1)</pre></div></div></div></div></div></div><div class=\"sk-parallel-item\"><div class=\"sk-item\"><div class=\"sk-label-container\"><div class=\"sk-label sk-toggleable\"><label>Xgboost</label></div></div><div class=\"sk-serial\"><div class=\"sk-item\"><div class=\"sk-estimator sk-toggleable\"><input class=\"sk-toggleable__control sk-hidden--visually\" id=\"sk-estimator-id-3\" type=\"checkbox\" ><label for=\"sk-estimator-id-3\" class=\"sk-toggleable__label sk-toggleable__label-arrow\">XGBRegressor</label><div class=\"sk-toggleable__content\"><pre>XGBRegressor(base_score=None, booster=None, callbacks=None,\n",
       "             colsample_bylevel=None, colsample_bynode=None,\n",
       "             colsample_bytree=None, early_stopping_rounds=None,\n",
       "             enable_categorical=False, eval_metric=None, gamma=None,\n",
       "             gpu_id=None, grow_policy=None, importance_type=None,\n",
       "             interaction_constraints=None, learning_rate=0.1, max_bin=None,\n",
       "             max_cat_to_onehot=None, max_delta_step=None, max_depth=5,\n",
       "             max_leaves=None, min_child_weight=4, missing=nan,\n",
       "             monotone_constraints=None, n_estimators=295, n_jobs=None,\n",
       "             num_parallel_tree=None, predictor=None, random_state=None,\n",
       "             reg_alpha=None, reg_lambda=None, ...)</pre></div></div></div></div></div></div><div class=\"sk-parallel-item\"><div class=\"sk-item\"><div class=\"sk-label-container\"><div class=\"sk-label sk-toggleable\"><label>SVM</label></div></div><div class=\"sk-serial\"><div class=\"sk-item\"><div class=\"sk-estimator sk-toggleable\"><input class=\"sk-toggleable__control sk-hidden--visually\" id=\"sk-estimator-id-4\" type=\"checkbox\" ><label for=\"sk-estimator-id-4\" class=\"sk-toggleable__label sk-toggleable__label-arrow\">LinearSVR</label><div class=\"sk-toggleable__content\"><pre>LinearSVR()</pre></div></div></div></div></div></div></div></div><div class=\"sk-item\"><div class=\"sk-parallel\"><div class=\"sk-parallel-item\"><div class=\"sk-item\"><div class=\"sk-label-container\"><div class=\"sk-label sk-toggleable\"><label>final_estimator</label></div></div><div class=\"sk-serial\"><div class=\"sk-item\"><div class=\"sk-estimator sk-toggleable\"><input class=\"sk-toggleable__control sk-hidden--visually\" id=\"sk-estimator-id-5\" type=\"checkbox\" ><label for=\"sk-estimator-id-5\" class=\"sk-toggleable__label sk-toggleable__label-arrow\">Ridge</label><div class=\"sk-toggleable__content\"><pre>Ridge()</pre></div></div></div></div></div></div></div></div></div></div></div></div>"
      ],
      "text/plain": [
       "StackingRegressor(estimators=[('Random_Forest',\n",
       "                               RandomForestRegressor(min_samples_split=5,\n",
       "                                                     n_estimators=70,\n",
       "                                                     random_state=1)),\n",
       "                              ('Xgboost',\n",
       "                               XGBRegressor(base_score=None, booster=None,\n",
       "                                            callbacks=None,\n",
       "                                            colsample_bylevel=None,\n",
       "                                            colsample_bynode=None,\n",
       "                                            colsample_bytree=None,\n",
       "                                            early_stopping_rounds=None,\n",
       "                                            enable_categorical=False,\n",
       "                                            eval_metric=None, gamma=None,\n",
       "                                            gpu_id=None, g...\n",
       "                                            interaction_constraints=None,\n",
       "                                            learning_rate=0.1, max_bin=None,\n",
       "                                            max_cat_to_onehot=None,\n",
       "                                            max_delta_step=None, max_depth=5,\n",
       "                                            max_leaves=None, min_child_weight=4,\n",
       "                                            missing=nan,\n",
       "                                            monotone_constraints=None,\n",
       "                                            n_estimators=295, n_jobs=None,\n",
       "                                            num_parallel_tree=None,\n",
       "                                            predictor=None, random_state=None,\n",
       "                                            reg_alpha=None, reg_lambda=None, ...)),\n",
       "                              ('SVM', LinearSVR())],\n",
       "                  final_estimator=Ridge(), n_jobs=-1, verbose=True)"
      ]
     },
     "execution_count": 18,
     "metadata": {},
     "output_type": "execute_result"
    }
   ],
   "source": [
    "stacking_regressor.fit(x_train, y_train)"
   ]
  },
  {
   "cell_type": "code",
   "execution_count": 19,
   "id": "cf95db3d",
   "metadata": {},
   "outputs": [
    {
     "data": {
      "text/plain": [
       "5.850593565745954"
      ]
     },
     "execution_count": 19,
     "metadata": {},
     "output_type": "execute_result"
    }
   ],
   "source": [
    "mean_absolute_error(y_test, stacking_regressor.predict(x_test))"
   ]
  },
  {
   "cell_type": "code",
   "execution_count": 20,
   "id": "559f6eda",
   "metadata": {},
   "outputs": [
    {
     "data": {
      "text/plain": [
       "4.136620819152931"
      ]
     },
     "execution_count": 20,
     "metadata": {},
     "output_type": "execute_result"
    }
   ],
   "source": [
    "mean_absolute_error(y_train, stacking_regressor.predict(x_train))"
   ]
  },
  {
   "cell_type": "code",
   "execution_count": null,
   "id": "cec30f01",
   "metadata": {},
   "outputs": [],
   "source": []
  }
 ],
 "metadata": {
  "kernelspec": {
   "display_name": "Python 3 (ipykernel)",
   "language": "python",
   "name": "python3"
  },
  "language_info": {
   "codemirror_mode": {
    "name": "ipython",
    "version": 3
   },
   "file_extension": ".py",
   "mimetype": "text/x-python",
   "name": "python",
   "nbconvert_exporter": "python",
   "pygments_lexer": "ipython3",
   "version": "3.9.7"
  },
  "toc": {
   "base_numbering": 1,
   "nav_menu": {},
   "number_sections": true,
   "sideBar": true,
   "skip_h1_title": false,
   "title_cell": "Table of Contents",
   "title_sidebar": "Contents",
   "toc_cell": false,
   "toc_position": {},
   "toc_section_display": true,
   "toc_window_display": false
  }
 },
 "nbformat": 4,
 "nbformat_minor": 5
}
